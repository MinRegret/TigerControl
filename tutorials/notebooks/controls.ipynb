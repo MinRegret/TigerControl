{
 "cells": [
  {
   "cell_type": "markdown",
   "metadata": {},
   "source": [
    "# Controls scoreboard"
   ]
  },
  {
   "cell_type": "code",
   "execution_count": 6,
   "metadata": {},
   "outputs": [],
   "source": [
    "import tigercontrol\n",
    "import jax\n",
    "import jax.numpy as np\n",
    "from tigercontrol.models.optimizers import *\n",
    "from tigercontrol.experiments import Experiment\n",
    "import jax.random as random\n",
    "from tigercontrol.utils import generate_key\n",
    "import matplotlib.pyplot as plt"
   ]
  },
  {
   "cell_type": "markdown",
   "metadata": {},
   "source": [
    "## Simulated Data"
   ]
  },
  {
   "cell_type": "markdown",
   "metadata": {},
   "source": [
    "### Setting I: Sanity Check"
   ]
  },
  {
   "cell_type": "markdown",
   "metadata": {},
   "source": [
    "We initialize an LDS with A,B,C,D, for C = I, and D = 0.\n",
    "m = n = 10 are the dimensions\n",
    "\n",
    "We start with a simple sanity check, in which we generate stationary time-series data assuming the $ARMA$ model with $AR_{dyn} = [0.6, −0.5, 0.4, −0.4, 0.3]$, $MA_{dyn} = [0.3, −0.2]$, and normally distributed noise terms $w_t ∼ N (0, 0.3^2)$."
   ]
  },
  {
   "cell_type": "code",
   "execution_count": 7,
   "metadata": {},
   "outputs": [],
   "source": [
    "ar_dyn = np.array([0.6, -0.5, 0.4, -0.4, 0.3])\n",
    "ma_dyn = np.array([0.3, -0.2])\n",
    "mean, noise_magnitude = 0, 0.3\n",
    "\n",
    "m = 10\n",
    "n = 10\n",
    "d = 10"
   ]
  },
  {
   "cell_type": "markdown",
   "metadata": {},
   "source": [
    "We will compare the models ARMA-OGD and ARMA-ONS against their boosted counterparts (with $N = 5$ weak learners). Following the experiments and results of [1], our autoregressive models use history $p = 10$ and learning rate $0.00001$."
   ]
  },
  {
   "cell_type": "code",
   "execution_count": 15,
   "metadata": {},
   "outputs": [],
   "source": [
    "def test_lqr_on_lds_control(steps=10, show_plot=True):\n",
    "    T = steps\n",
    "    n = 3 # input/control dimension\n",
    "    m = 5 # output dimension\n",
    "    d = 5 # hidden/state dimension (which is equal to output dimension here)\n",
    "    problem = tigercontrol.problem(\"LDS-Control-v0\")\n",
    "    problem.initialize(n, m, d)\n",
    "    F = np.zeros((d, d+n)) # system dynamics matrix\n",
    "    for i in range(d):\n",
    "        for j in range(d):\n",
    "            F = jax.ops.index_update(F, jax.ops.index[i,j], problem.A[i][j])\n",
    "    for i in range(d):\n",
    "        for j in range(n):\n",
    "            F = jax.ops.index_update(F, jax.ops.index[i, j+d], problem.B[i][j])\n",
    "\n",
    "    f = np.zeros((d,1)) # bias\n",
    "    C = np.identity(d+n) # quadratic cost\n",
    "\n",
    "    c = np.zeros((d+n, 1)) # linear cost\n",
    "    x = np.ones((d,1)) # initial state\n",
    "\n",
    "    model = tigercontrol.model(\"LQR\")\n",
    "    model.initialize(F, f, C, c, T, x)\n",
    "\n",
    "##    model2 = tigercontrol.model(\"GPC\")\n",
    "##    model2.initialize(A,B,...)\n",
    "\n",
    "    u = model.plan()\n",
    "    print(u[1].shape)\n",
    "    y = []\n",
    "    for i in range(steps):\n",
    "        y.append(np.zeros(n))\n",
    "        print(y[i].shape)\n",
    "        print(problem.step(np.zeros(n)).shape)\n",
    "    \n",
    "    if show_plot:\n",
    "        plt.plot([np.linalg.norm(i) for i in y], 'C0--', label = \"LQR\")\n",
    "        plt.title(\"LQR on LDS\")\n",
    "        plt.legend()\n",
    "        plt.show(block=False)\n",
    "        plt.pause(10)\n",
    "        plt.close()"
   ]
  },
  {
   "cell_type": "code",
   "execution_count": 16,
   "metadata": {},
   "outputs": [
    {
     "name": "stderr",
     "output_type": "stream",
     "text": [
      "/Users/paulag/anaconda3/lib/python3.6/site-packages/jax/numpy/linalg.py:58: UserWarning: numpy.linalg support is experimental and may cause silent failures or wrong outputs\n",
      "  warnings.warn(_EXPERIMENTAL_WARNING)\n",
      "/Users/paulag/anaconda3/lib/python3.6/site-packages/jax/numpy/linalg.py:119: UserWarning: numpy.linalg support is experimental and may cause silent failures or wrong outputs\n",
      "  warnings.warn(_EXPERIMENTAL_WARNING)\n",
      "/Users/paulag/anaconda3/lib/python3.6/site-packages/jax/numpy/linalg.py:211: UserWarning: numpy.linalg support is experimental and may cause silent failures or wrong outputs\n",
      "  warnings.warn(_EXPERIMENTAL_WARNING)\n"
     ]
    },
    {
     "name": "stdout",
     "output_type": "stream",
     "text": [
      "(3, 1)\n",
      "(3,)\n",
      "(5,)\n",
      "(3,)\n",
      "(5,)\n",
      "(3,)\n",
      "(5,)\n",
      "(3,)\n",
      "(5,)\n",
      "(3,)\n",
      "(5,)\n",
      "(3,)\n",
      "(5,)\n",
      "(3,)\n",
      "(5,)\n",
      "(3,)\n",
      "(5,)\n",
      "(3,)\n",
      "(5,)\n",
      "(3,)\n",
      "(5,)\n"
     ]
    },
    {
     "data": {
      "image/png": "[encoded data removed]",
      "text/plain": [
       "<Figure size 432x288 with 1 Axes>"
      ]
     },
     "metadata": {},
     "output_type": "display_data"
    }
   ],
   "source": [
    "test_lqr_on_lds_control(10)"
   ]
  },
  {
   "cell_type": "markdown",
   "metadata": {},
   "source": [
    "We can now initialize the experiment:"
   ]
  }
 ],
 "metadata": {
  "kernelspec": {
   "display_name": "Python 3",
   "language": "python",
   "name": "python3"
  },
  "language_info": {
   "codemirror_mode": {
    "name": "ipython",
    "version": 3
   },
   "file_extension": ".py",
   "mimetype": "text/x-python",
   "name": "python",
   "nbconvert_exporter": "python",
   "pygments_lexer": "ipython3",
   "version": "3.6.5"
  }
 },
 "nbformat": 4,
 "nbformat_minor": 2
}
