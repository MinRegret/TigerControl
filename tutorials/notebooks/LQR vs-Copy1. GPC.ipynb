{
 "cells": [
  {
   "cell_type": "code",
   "execution_count": 4,
   "metadata": {},
   "outputs": [],
   "source": [
    "import matplotlib.pyplot as plt\n",
    "import jax.numpy as np\n",
    "import tigercontrol\n",
    "from tigercontrol.methods.control import ControlMethod\n",
    "from jax import grad,jit\n",
    "import jax\n",
    "from tigercontrol.experiments.core import run_experiment"
   ]
  },
  {
   "cell_type": "code",
   "execution_count": 5,
   "metadata": {},
   "outputs": [],
   "source": [
    "T = 100"
   ]
  },
  {
   "cell_type": "code",
   "execution_count": 6,
   "metadata": {},
   "outputs": [],
   "source": [
    "problem_id = \"LDS-Control-v0\"\n",
    "\n",
    "n = 3 # dimension of  the state x \n",
    "m = 5 # control dimension\n",
    "d = 3 # hidden/state dimension (which is equal to state dimension here)\n",
    "noise = 0.2\n",
    "fully_observable = True\n",
    "\n",
    "problem_params = {'n': n, 'm' : m, 'd' : d, 'noise' : noise, 'fully_observable' : fully_observable}"
   ]
  },
  {
   "cell_type": "code",
   "execution_count": null,
   "metadata": {},
   "outputs": [],
   "source": [
    "K = np.zeros((m, n))\n",
    "H, HH = 3, 30\n",
    "\n",
    "GPC_params = {'A' : problem.A, 'B': problem.B, 'x' : x, 'n' : n, 'm' : m, 'H' : H, 'HH' : HH, 'K':K}"
   ]
  },
  {
   "cell_type": "code",
   "execution_count": 5,
   "metadata": {},
   "outputs": [],
   "source": []
  },
  {
   "cell_type": "code",
   "execution_count": 6,
   "metadata": {},
   "outputs": [],
   "source": [
    "model = GPC()\n",
    "model.initialize(problem.A, problem.B, x, n, m, 3, 30, K)"
   ]
  },
  {
   "cell_type": "code",
   "execution_count": 7,
   "metadata": {},
   "outputs": [
    {
     "name": "stdout",
     "output_type": "stream",
     "text": [
      "(3,)\n"
     ]
    }
   ],
   "source": [
    "GPC_results = []\n",
    "for i in range(T):\n",
    "    u = model.plan(x)\n",
    "    x = problem.step(u)\n",
    "    GPC_results.append(x)"
   ]
  },
  {
   "cell_type": "code",
   "execution_count": 8,
   "metadata": {},
   "outputs": [
    {
     "name": "stderr",
     "output_type": "stream",
     "text": [
      "/Users/paulag/anaconda3/lib/python3.6/site-packages/jax/numpy/linalg.py:58: UserWarning: numpy.linalg support is experimental and may cause silent failures or wrong outputs\n",
      "  warnings.warn(_EXPERIMENTAL_WARNING)\n"
     ]
    }
   ],
   "source": [
    "x = problem.initialize(n, m, d, noise = 0.2, fully_observable = True)"
   ]
  },
  {
   "cell_type": "code",
   "execution_count": 9,
   "metadata": {},
   "outputs": [],
   "source": [
    "\"\"\"\n",
    "Linear Quadratic Regulator\n",
    "\"\"\"\n",
    "\n",
    "import jax.numpy as np\n",
    "import tigercontrol\n",
    "from tigercontrol.methods.control import ControlMethod\n",
    "\n",
    "class LQR(ControlMethod):\n",
    "    \"\"\"\n",
    "    Description: Computes optimal set of actions using the Linear Quadratic Regulator\n",
    "    algorithm.\n",
    "    \"\"\"\n",
    "    \n",
    "    compatibles = set([])\n",
    "\n",
    "    def __init__(self):\n",
    "        self.initialized = False\n",
    "\n",
    "    def to_ndarray(self, x):\n",
    "        \"\"\"\n",
    "        Description: If x is a scalar, transform it to a (1, 1) numpy.ndarray;\n",
    "        otherwise, leave it unchanged.\n",
    "        Args:\n",
    "            x (float/numpy.ndarray)\n",
    "        Returns:\n",
    "            A numpy.ndarray representation of x\n",
    "        \"\"\"\n",
    "        x = np.asarray(x)\n",
    "        if(np.ndim(x) == 0):\n",
    "            x = x[None, None]\n",
    "        return x\n",
    "\n",
    "    def extend(self, x, T):\n",
    "        \"\"\"\n",
    "        Description: If x is not in the correct form, convert it; otherwise, leave it unchanged.\n",
    "        Args:\n",
    "            x (float/numpy.ndarray)\n",
    "            T (postive int): number of timesteps\n",
    "        Returns:\n",
    "            A numpy.ndarray representation of x\n",
    "        \"\"\"\n",
    "        #x = self.to_ndarray(x)\n",
    "        return [x for i in range(T)]\n",
    "\n",
    "    def initialize(self, A, B, C, T, x):\n",
    "        \"\"\"\n",
    "        Description: Initialize the dynamics of the method\n",
    "        Args:\n",
    "            A (float/numpy.ndarray): past value contribution coefficients\n",
    "            B (float/numpy.ndarray): control value contribution coefficients\n",
    "            C (float/numpy.ndarray): quadratic cost coefficients\n",
    "            T (postive int): number of timesteps\n",
    "            x (float/numpy.ndarray): initial state\n",
    "        \"\"\"\n",
    "        self.initialized = True\n",
    "        \n",
    "        F = np.hstack((A, B))\n",
    "\n",
    "        n, m = B.shape[0], B.shape[1]\n",
    "        \n",
    "        self.F, self.C, self.T, self.x = self.extend(F, T), self.extend(C, T), T, self.to_ndarray(x)\n",
    "        self.u = self.extend(np.zeros((m, 1)), T)     \n",
    "        self.K = self.extend(np.zeros((m, n)), T)\n",
    "\n",
    "    def plan(self):\n",
    "        \"\"\"\n",
    "        Description: Updates internal parameters and then returns the estimated optimal set of actions\n",
    "        Args:\n",
    "            None\n",
    "        Returns:\n",
    "            Estimated optimal set of actions\n",
    "        \"\"\"\n",
    "\n",
    "        ## Initialize V and Q Functions ##\n",
    "        V = np.zeros((self.F[0].shape[0], self.F[0].shape[0]))\n",
    "        Q = np.zeros((self.C[0].shape[0], self.C[0].shape[1]))\n",
    "\n",
    "        ## Backward Recursion ##\n",
    "        for t in range(self.T - 1, -1, -1):\n",
    "\n",
    "            Q = self.C[t] + self.F[t].T @ V @ self.F[t]\n",
    "            self.K[t] = -np.linalg.inv(Q[self.x.shape[0] :, self.x.shape[0] :]) @ Q[self.x.shape[0] :, : self.x.shape[0]]\n",
    "            V = Q[: self.x.shape[0], : self.x.shape[0]] + Q[: self.x.shape[0], self.x.shape[0] :] @ self.K[t] + self.K[t].T @ Q[self.x.shape[0] :, : self.x.shape[0]] + self.K[t].T @ Q[self.x.shape[0] :, self.x.shape[0] :] @ self.K[t]\n",
    "        \n",
    "        ## Forward Recursion ##\n",
    "        for t in range(self.T):\n",
    "            self.u[t] = self.K[t] @ self.x\n",
    "            self.x = self.F[t] @ np.hstack((self.x, self.u[t]))\n",
    "\n",
    "        return self.u"
   ]
  },
  {
   "cell_type": "code",
   "execution_count": 10,
   "metadata": {},
   "outputs": [
    {
     "name": "stderr",
     "output_type": "stream",
     "text": [
      "/Users/paulag/anaconda3/lib/python3.6/site-packages/jax/numpy/linalg.py:119: UserWarning: numpy.linalg support is experimental and may cause silent failures or wrong outputs\n",
      "  warnings.warn(_EXPERIMENTAL_WARNING)\n",
      "/Users/paulag/anaconda3/lib/python3.6/site-packages/jax/numpy/linalg.py:211: UserWarning: numpy.linalg support is experimental and may cause silent failures or wrong outputs\n",
      "  warnings.warn(_EXPERIMENTAL_WARNING)\n"
     ]
    }
   ],
   "source": [
    "C = np.identity(d+m) # quadratic cost\n",
    "\n",
    "model = LQR()\n",
    "model.initialize(problem.A, problem.B, C, T, x)\n",
    "\n",
    "u = model.plan()"
   ]
  },
  {
   "cell_type": "code",
   "execution_count": 11,
   "metadata": {},
   "outputs": [
    {
     "name": "stdout",
     "output_type": "stream",
     "text": [
      "(3,)\n"
     ]
    }
   ],
   "source": [
    "LQR_results = []\n",
    "for i in range(T):\n",
    "    x = problem.step(u[i])\n",
    "    LQR_results.append(x)"
   ]
  },
  {
   "cell_type": "code",
   "execution_count": 16,
   "metadata": {},
   "outputs": [
    {
     "data": {
      "image/png": "[encoded data removed]",
      "text/plain": [
       "<Figure size 432x288 with 1 Axes>"
      ]
     },
     "metadata": {},
     "output_type": "display_data"
    }
   ],
   "source": [
    "plt.plot([np.linalg.norm(i) for i in GPC_results], label = \"GPC\")\n",
    "plt.plot([np.linalg.norm(i) for i in LQR_results], label = \"LQR\")\n",
    "plt.title(\"GPC vs. LQR on LDS\");\n",
    "plt.legend();"
   ]
  },
  {
   "cell_type": "markdown",
   "metadata": {},
   "source": [
    "## Using LQR first to get good initial K estimate"
   ]
  },
  {
   "cell_type": "code",
   "execution_count": 13,
   "metadata": {},
   "outputs": [],
   "source": [
    "model = GPC()\n",
    "model.initialize(problem.A, problem.B, x, n, m, 3, 30, K)"
   ]
  },
  {
   "cell_type": "code",
   "execution_count": null,
   "metadata": {},
   "outputs": [],
   "source": []
  }
 ],
 "metadata": {
  "kernelspec": {
   "display_name": "Python 3",
   "language": "python",
   "name": "python3"
  },
  "language_info": {
   "codemirror_mode": {
    "name": "ipython",
    "version": 3
   },
   "file_extension": ".py",
   "mimetype": "text/x-python",
   "name": "python",
   "nbconvert_exporter": "python",
   "pygments_lexer": "ipython3",
   "version": "3.6.5"
  }
 },
 "nbformat": 4,
 "nbformat_minor": 2
}
