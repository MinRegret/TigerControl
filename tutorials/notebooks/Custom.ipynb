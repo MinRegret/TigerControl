{
  "nbformat": 4,
  "nbformat_minor": 0,
  "metadata": {
    "colab": {
      "name": "Custom.ipynb",
      "version": "0.3.2",
      "provenance": [],
      "include_colab_link": true
    },
    "kernelspec": {
      "name": "python3",
      "display_name": "Python 3"
    }
  },
  "cells": [
    {
      "cell_type": "markdown",
      "metadata": {
        "id": "view-in-github",
        "colab_type": "text"
      },
      "source": [
        "<a href=\"https://colab.research.google.com/github/johnhallman/tigercontrol/blob/tutorials/tutorials/notebooks/Custom.ipynb\" target=\"_parent\"><img src=\"https://colab.research.google.com/assets/colab-badge.svg\" alt=\"Open In Colab\"/></a>"
      ]
    },
    {
      "cell_type": "markdown",
      "metadata": {
        "id": "_IL2Z-mTABfN",
        "colab_type": "text"
      },
      "source": [
        "# Custom methods and environments"
      ]
    },
    {
      "cell_type": "markdown",
      "metadata": {
        "id": "Nkw5wEVkKoHW",
        "colab_type": "text"
      },
      "source": [
        "In order to add a new algorithm to the registry, you must first implement a CustomMethod object that adheres to the specifications of the other TigerControl methods. As long as your class inherits the tigercontrol CustomClass object and has the three core TigerControl Method methods implemented — *initialize*, *predict*, and *update* — the class will interface as expected with all the other features in the framework. These methods are:\n",
        "\n",
        "*   Initialize — initializes method parameters and other local variables, and is called at the beginning of every environment run.\n",
        "*   Predict — a function that takes an input observation 'x' and returns a prediction which can depend on the parameters defined in initialize.\n",
        "*   Update — which takes the true label with respect to the last observed value 'x' and performs some correction over the initialized parameters.\n",
        "\n",
        "In this notebook, we demonstrate how to implement and add your own methods to TigerControl. We start as usual by installing the package.\n"
      ]
    },
    {
      "cell_type": "code",
      "metadata": {
        "id": "fAmT_pGKTb6r",
        "colab_type": "code",
        "colab": {}
      },
      "source": [
        "!git clone https://github.com/johnhallman/tigercontrol.git\n",
        "!pip install -e tigercontrol"
      ],
      "execution_count": 0,
      "outputs": []
    },
    {
      "cell_type": "code",
      "metadata": {
        "id": "Lcw6FS7PUYR4",
        "colab_type": "code",
        "colab": {}
      },
      "source": [
        "import tigercontrol\n",
        "import jax\n",
        "import jax.numpy as np\n",
        "import jax.random as random\n",
        "from tigercontrol.utils import generate_key\n",
        "import matplotlib.pyplot as plt\n",
        "tigercontrol.set_key(1)"
      ],
      "execution_count": 0,
      "outputs": []
    },
    {
      "cell_type": "markdown",
      "metadata": {
        "id": "DoS6l2-WTee6",
        "colab_type": "text"
      },
      "source": [
        "Below, we implement the most trivial method possible, with no initialize or update and with a predict method which returns the previously observed value."
      ]
    },
    {
      "cell_type": "code",
      "metadata": {
        "id": "emLggf0T_cmA",
        "colab_type": "code",
        "colab": {}
      },
      "source": [
        "class TrivialMethod(tigercontrol.CustomMethod):\n",
        "  \n",
        "  def initialize(self):\n",
        "    pass\n",
        "  \n",
        "  def predict(self, x):\n",
        "    return x\n",
        "  \n",
        "  def update(self, y_true):\n",
        "    pass"
      ],
      "execution_count": 0,
      "outputs": []
    },
    {
      "cell_type": "markdown",
      "metadata": {
        "id": "n4hOh-brK61Q",
        "colab_type": "text"
      },
      "source": [
        "TigerControl comes with a built in ```register_custom_method``` method that allows users to register method classes with custom names."
      ]
    },
    {
      "cell_type": "code",
      "metadata": {
        "id": "Iq_uHTH1K8TJ",
        "colab_type": "code",
        "colab": {}
      },
      "source": [
        "tigercontrol.register_custom_method(TrivialMethod, \"TrivialMethod\")"
      ],
      "execution_count": 0,
      "outputs": []
    },
    {
      "cell_type": "markdown",
      "metadata": {
        "id": "JnynYYdmXbKZ",
        "colab_type": "text"
      },
      "source": [
        "Next, we demonstrate how to implement and register a recurrent neural network (RNN) using JAX and the existing Adagrad optimizer. In order to use the existing TigerControl optimizers, the custom class needs to provide a method which takes parameters $\\theta$ and input $x$ and maps them to a prediction using solely JAX and regular arithmetic API. \n",
        "\n",
        "Because TigerControl methods are provided only with the most recent observation as input for predict, and because RNNs need to take a history of observations in order to make predictions, we need to implement a private helper method to support RNN's predict. In the code below, we will call this private method \\_predict, which takes parameters $\\theta$ in the form of a list of matrices, and $x$ which is a list of the previous $k$ observations $x_t$."
      ]
    },
    {
      "cell_type": "code",
      "metadata": {
        "id": "p9L4HcfKXatP",
        "colab_type": "code",
        "colab": {}
      },
      "source": [
        "# get glorot initialization from JAX\n",
        "import jax.experimental.stax as stax \n",
        "glorot_init = stax.glorot()\n",
        "\n",
        "class MyRNN(tigercontrol.CustomMethod):\n",
        "  # input_dim: dimension of RNN inputs, hidden_dim: dimension of hidden state/output\n",
        "  # memory_length: length of observation history to store\n",
        "  # optimizer: TigerControl optimizer class or instance (used in update method)\n",
        "  def initialize(self, input_dim, hidden_dim, memory_length, optimizer):\n",
        "    \n",
        "    # store arguments\n",
        "    self.d_in = input_dim\n",
        "    self.d_hid = hidden_dim\n",
        "    self.mem = memory_length\n",
        "    self.x_history = np.zeros((memory_length, input_dim))\n",
        "    \n",
        "    # initialize and store method parameters\n",
        "    W_h = glorot_init(generate_key(), (hidden_dim, hidden_dim))\n",
        "    W_x = glorot_init(generate_key(), (hidden_dim, input_dim))\n",
        "    b = random.normal(generate_key(), shape=(hidden_dim,))\n",
        "    self.params = [W_h, W_x, b]\n",
        "    \n",
        "    # initialize predict helper method (x is a history in this case)\n",
        "    def _predict(params, x): \n",
        "      W_h, W_x, b = params      # unroll parameters\n",
        "      hid = np.zeros(hidden_dim)\n",
        "      for x_t in x:\n",
        "        hid = np.tanh(np.dot(W_h, hid) + np.dot(W_x, x_t) + b)\n",
        "      return hid\n",
        "    self._predict = jax.jit(_predict)   # jit compiles code and improves efficiency\n",
        "    \n",
        "    # store optimizer in method by providing helper predict\n",
        "    self._store_optimizer(optimizer, self._predict)\n",
        "    \n",
        "  # x is an input_dim length ndarray\n",
        "  def predict(self, x):\n",
        "    \n",
        "    # store new observation in history\n",
        "    temp = np.roll(self.x_history, self.d_in)\n",
        "    self.x_history = jax.ops.index_update(temp, jax.ops.index[0,:], x)\n",
        "    \n",
        "    # return prediction via helper method\n",
        "    return self._predict(self.params, self.x_history)\n",
        "\n",
        "  \n",
        "  # y_true is the next observation/label\n",
        "  def update(self, y):\n",
        "    self.params = self.optimizer.update(self.params, self.x_history, y)\n",
        "    return"
      ],
      "execution_count": 0,
      "outputs": []
    },
    {
      "cell_type": "markdown",
      "metadata": {
        "id": "XuTYnA_RUx8U",
        "colab_type": "text"
      },
      "source": [
        "Every TigerControl method, including those inheriting the CustomMethod class, come with a built-in \\_store\\_optimizer method which can be called to load the optimizer into the method. Optimizers as well as \\_store\\_optimizer must take a prediction method in order to be able to compute gradients to optimize against, and because optimizers depend on JAX's autograd functionality, any predict method passed to an optimizer must be implemented using JAX NumPy.\n",
        "\n",
        "We now register and run our method on an ARMA(5, 3) environment and compare it's performance to LastValue."
      ]
    },
    {
      "cell_type": "code",
      "metadata": {
        "id": "y1GzC1lvUyQq",
        "colab_type": "code",
        "colab": {}
      },
      "source": [
        "from tigercontrol.methods.optimizers import Adagrad, mse\n",
        "\n",
        "# register and initialize custom RNN method\n",
        "tigercontrol.register_custom_method(MyRNN, \"MyRNN\")\n",
        "my_method = tigercontrol.method(\"MyRNN\")\n",
        "d_in, d_hid, memory = 1, 1, 6\n",
        "optimizer = Adagrad(learning_rate=0.01)\n",
        "my_method.initialize(d_in, d_hid, memory, optimizer)"
      ],
      "execution_count": 0,
      "outputs": []
    },
    {
      "cell_type": "markdown",
      "metadata": {
        "id": "30zWEh3zhR9i",
        "colab_type": "text"
      },
      "source": [
        "Once our method has been initialized, we now run the comparison against the LastValue method."
      ]
    },
    {
      "cell_type": "code",
      "metadata": {
        "id": "2Vefa6ALhSyo",
        "colab_type": "code",
        "colab": {}
      },
      "source": [
        "# initialize LastValue method and ARMA environment\n",
        "pz_method = tigercontrol.method(\"LastValue\")\n",
        "pz_method.initialize()\n",
        "\n",
        "T = 2500\n",
        "p, q = 5, 3\n",
        "environment = tigercontrol.environment(\"ARMA-v0\")\n",
        "x = environment.initialize(p, q)\n",
        "\n",
        "# run comparison\n",
        "my_results = []\n",
        "pz_results = []\n",
        "for i in range(T):\n",
        "    my_y_pred = my_method.predict(x)\n",
        "    pz_y_pred = pz_method.predict(x)\n",
        "    y_true = environment.step()\n",
        "    my_loss = mse(y_true, my_y_pred)\n",
        "    pz_loss = mse(y_true, pz_y_pred)\n",
        "    my_results.append(my_loss)\n",
        "    pz_results.append(pz_loss)\n",
        "    my_method.update(y_true)\n",
        "    pz_method.update(y_true)\n",
        "    x = y_true"
      ],
      "execution_count": 0,
      "outputs": []
    },
    {
      "cell_type": "markdown",
      "metadata": {
        "id": "j54N1bfIkxUb",
        "colab_type": "text"
      },
      "source": [
        "Finally, we plot the results of our comparison"
      ]
    },
    {
      "cell_type": "code",
      "metadata": {
        "id": "d-9DJecCkGNc",
        "colab_type": "code",
        "colab": {
          "base_uri": "https://localhost:8080/",
          "height": 281
        },
        "outputId": "3738516b-5e34-44c9-f851-12c62135a375"
      },
      "source": [
        "def smoothen(data, k=50):\n",
        "  return [np.sum(data[i:i+k])/k for i in range(len(data) - k)]\n",
        "\n",
        "# plot method performance\n",
        "plt.plot(smoothen(my_results), label=\"MyRNN\")\n",
        "plt.plot(smoothen(pz_results), label=\"LastValue\")\n",
        "plt.legend()\n",
        "plt.title(\"MyRNN vs LastValue on ARMA environment\")\n",
        "plt.show()"
      ],
      "execution_count": 36,
      "outputs": [
        {
          "output_type": "display_data",
          "data": {
            "image/png": "[encoded data removed]",
            "text/plain": [
              "<Figure size 432x288 with 1 Axes>"
            ]
          },
          "metadata": {
            "tags": []
          }
        }
      ]
    },
    {
      "cell_type": "markdown",
      "metadata": {
        "id": "cuyGfXbSLAkU",
        "colab_type": "text"
      },
      "source": [
        "As we can see, LastValue performs better than the RNN, whereas the RNN improves over time due to the optimizer."
      ]
    },
    {
      "cell_type": "code",
      "metadata": {
        "id": "fP0PmXcvmOBL",
        "colab_type": "code",
        "colab": {}
      },
      "source": [
        ""
      ],
      "execution_count": 0,
      "outputs": []
    }
  ]
}