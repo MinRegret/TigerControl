{
  "nbformat": 4,
  "nbformat_minor": 0,
  "metadata": {
    "colab": {
      "name": "Custom.ipynb",
      "version": "0.3.2",
      "provenance": [],
      "include_colab_link": true
    },
    "kernelspec": {
      "name": "python3",
      "display_name": "Python 3"
    }
  },
  "cells": [
    {
      "cell_type": "markdown",
      "metadata": {
        "id": "view-in-github",
        "colab_type": "text"
      },
      "source": [
        "<a href=\"https://colab.research.google.com/github/johnhallman/ctsb/blob/tutorials/tutorials/notebooks/Custom.ipynb\" target=\"_parent\"><img src=\"https://colab.research.google.com/assets/colab-badge.svg\" alt=\"Open In Colab\"/></a>"
      ]
    },
    {
      "cell_type": "markdown",
      "metadata": {
        "id": "_IL2Z-mTABfN",
        "colab_type": "text"
      },
      "source": [
        "# Custom models and problems"
      ]
    },
    {
      "cell_type": "markdown",
      "metadata": {
        "id": "Nkw5wEVkKoHW",
        "colab_type": "text"
      },
      "source": [
        "In order to add a new algorithm to the registry, you must first implement a CustomModel object that adheres to the specifications of the other CTSB models. As long as your class inherits the ctsb CustomClass object and has the three core CTSB Model methods implemented — *initialize*, *predict*, and *update* — the class will interface as expected with all the other features in the framework. These methods are:\n",
        "\n",
        "*   Initialize — initializes model parameters and other local variables, and is called at the beginning of every problem run.\n",
        "*   Predict — a function that takes an input observation 'x' and returns a prediction which can depend on the parameters defined in initialize.\n",
        "*   Update — which takes the true label with respect to the last observed value 'x' and performs some correction over the initialized parameters.\n",
        "\n",
        "In this notebook, we demonstrate how to implement and add your own models to CTSB. We start as usual by installing the package.\n"
      ]
    },
    {
      "cell_type": "code",
      "metadata": {
        "id": "fAmT_pGKTb6r",
        "colab_type": "code",
        "colab": {}
      },
      "source": [
        "!git clone https://github.com/johnhallman/ctsb.git\n",
        "!pip install -e ctsb"
      ],
      "execution_count": 0,
      "outputs": []
    },
    {
      "cell_type": "code",
      "metadata": {
        "id": "Lcw6FS7PUYR4",
        "colab_type": "code",
        "colab": {}
      },
      "source": [
        "import ctsb\n",
        "from ctsb.utils import generate_key\n",
        "import jax\n",
        "import jax.numpy as np\n",
        "import jax.random as random"
      ],
      "execution_count": 0,
      "outputs": []
    },
    {
      "cell_type": "markdown",
      "metadata": {
        "id": "DoS6l2-WTee6",
        "colab_type": "text"
      },
      "source": [
        "Below, we implement the most trivial model possible, with no initialize or update and with a predict method which returns the previously observed value."
      ]
    },
    {
      "cell_type": "code",
      "metadata": {
        "id": "emLggf0T_cmA",
        "colab_type": "code",
        "colab": {}
      },
      "source": [
        "class TrivialModel(ctsb.CustomModel):\n",
        "  \n",
        "  def initialize(self):\n",
        "    pass\n",
        "  \n",
        "  def predict(self, x):\n",
        "    return x\n",
        "  \n",
        "  def update(self, y_true):\n",
        "    pass"
      ],
      "execution_count": 0,
      "outputs": []
    },
    {
      "cell_type": "markdown",
      "metadata": {
        "id": "n4hOh-brK61Q",
        "colab_type": "text"
      },
      "source": [
        "CTSB comes with a built in ```register_custom_model``` method that allows users to register model classes with custom names."
      ]
    },
    {
      "cell_type": "code",
      "metadata": {
        "id": "Iq_uHTH1K8TJ",
        "colab_type": "code",
        "colab": {}
      },
      "source": [
        "ctsb.register_custom_model(TrivialModel, \"TrivialModel\")"
      ],
      "execution_count": 0,
      "outputs": []
    },
    {
      "cell_type": "markdown",
      "metadata": {
        "id": "JnynYYdmXbKZ",
        "colab_type": "text"
      },
      "source": [
        "Next, we demonstrate how to implement and register a recurrent neural network (RNN) using JAX and the existing Adagrad optimizer. In order to use the existing CTSB optimizers, the custom class needs to provide a method which takes parameters $\\theta$ and input $x$ and maps them to a prediction using solely JAX and regular arithmetic API. \n",
        "\n",
        "Because CTSB models are provided only with the most recent observation as input for predict, and because RNNs need to take a history of observations in order to make predictions, we need to implement a private helper method to support RNN's predict. In the code below, we will call this private method \\_predict, which takes parameters $\\theta$ in the form of a list of matrices, and $x$ which is a list of the previous $k$ observations $x_t$."
      ]
    },
    {
      "cell_type": "code",
      "metadata": {
        "id": "p9L4HcfKXatP",
        "colab_type": "code",
        "colab": {}
      },
      "source": [
        "# get glorot initialization from JAX\n",
        "import jax.experimental.stax as stax \n",
        "glorot_init = stax.glorot()\n",
        "\n",
        "class MyRNN(ctsb.CustomModel):\n",
        "  \n",
        "  # input_dim: dimension of RNN inputs, hidden_dim: dimension of hidden state/output\n",
        "  # memory_length: length of observation history to store\n",
        "  # optimizer: CTSB optimizer class or instance (used in update method)\n",
        "  def initialize(self, input_dim, hidden_dim, memory_length, optimizer):\n",
        "    \n",
        "    # store arguments\n",
        "    self.d_in = input_dim\n",
        "    self.d_hid = hidden_dim\n",
        "    self.mem = memory_length\n",
        "    \n",
        "    # initialize and store model parameters\n",
        "    W_h = glorot_init(generate_key(), (hidden_dim, hidden_dim))\n",
        "    W_x = glorot_init(generate_key(), (hidden_dim, input_dim))\n",
        "    b = random.normal(generate_key(), shape=(hidden_dim,))\n",
        "    self.params = [W_h, W_x, b]\n",
        "    \n",
        "    # initialize predict helper method (x is a history in this case)\n",
        "    def _predict(params, x): \n",
        "      W_h, W_x, b = params      # unroll parameters\n",
        "      hid = np.zeros(hidden_dim)\n",
        "      for x_t in x:\n",
        "        hid = np.tanh(np.dot(W_h, hid) + np.dot(W_x, x_t) + b)\n",
        "      return hid\n",
        "    self._predict = jax.jit(_predict)   # jit compiles code and improves efficiency\n",
        "    \n",
        "    # store optimizer in method by providing helper predict\n",
        "    self._store_optimizer(optimizer, self._predict)\n",
        "    \n",
        "  # x is an input_dim length ndarray\n",
        "  def predict(self, x):\n",
        "    \n",
        "    # store new observation in history\n",
        "    temp = np.roll(self.x_history, self.d_in)\n",
        "    self.x_history = jax.ops.index_update(temp, jax.ops.index[0,:], x)\n",
        "    \n",
        "    # return prediction via helper method\n",
        "    return self._predict(self.params, self.x_history)\n",
        "\n",
        "  \n",
        "  # y_true is the next observation/label\n",
        "  def update(self, y_true):\n",
        "    self.params = self.optimizer.update(self.params, self.x, y)\n",
        "    return"
      ],
      "execution_count": 0,
      "outputs": []
    },
    {
      "cell_type": "markdown",
      "metadata": {
        "id": "XuTYnA_RUx8U",
        "colab_type": "text"
      },
      "source": [
        "Every CTSB model, including those inheriting the CustomModel class, come with a built-in \\_store\\_optimizer method which can be called to load the optimizer into the model. Optimizers as well as \\_store\\_optimizer must take a prediction method in order to be able to compute gradients to optimize against, and because optimizers depend on JAX's autograd functionality, any predict method passed to an optimizer must be implemented using JAX NumPy.\n",
        "\n",
        "We now register and run our model on an ARMA(5, 3) problem and compare it's performance to LastValue."
      ]
    },
    {
      "cell_type": "code",
      "metadata": {
        "id": "y1GzC1lvUyQq",
        "colab_type": "code",
        "colab": {}
      },
      "source": [
        "from ctsb.losses import mse\n",
        "from ctsb.models.optimizers import Adagrad\n",
        "\n",
        "# register and initialize custom RNN model\n",
        "ctsb.register_custom_model(MyRNN, \"MyRNN\")\n",
        "my_model = ctsb.model(\"MyRNN\")\n",
        "d_in, d_hid, memory = 1, 1, 6\n",
        "optimizer = Adagrad(learning_rate=0.01)\n",
        "my_model.initialize(d_in, d_hid, memory, optimizer)\n",
        "\n",
        "# run on ARMA problem and compare to LastValue\n",
        "T = 1000\n",
        "p, q = 5, 3\n",
        "problem = ctsb.problem(\"ARMA-v0\")\n",
        "cur_x = problem.initialize(p, q)\n",
        "loss = lambda y_true, y_pred: (y_true - y_pred)**2\n",
        "pz_model = ctsb.model(\"LastValue\")\n",
        "pz_model.initialize()\n",
        "\n",
        "my_results = []\n",
        "pz_results = []\n",
        "for i in range(T):\n",
        "    my_y_pred = my_model.predict(cur_x)\n",
        "    pz_y_pred = pz_model.predict(cur_x)\n",
        "    y_true = problem.step()\n",
        "    my_loss = mse(y_true, my_y_pred)\n",
        "    pz_loss = mse(y_true, pz_y_pred)\n",
        "    my_results.append(my_loss)\n",
        "    pz_results.append(pz_loss)\n",
        "    my_model.update(y_true)\n",
        "    pz_model.update(y_true)\n",
        "    cur_x = y_true\n",
        "\n",
        "# plot model performance\n",
        "plt.plot(my_results, label=\"MyModel\")\n",
        "plt.plot(pz_results, label=\"PredictZero\")\n",
        "plt.legend()\n",
        "plt.title(\"MyModel vs PredictZero on ARMA problem\")\n",
        "plt.show()"
      ],
      "execution_count": 0,
      "outputs": []
    },
    {
      "cell_type": "markdown",
      "metadata": {
        "id": "cuyGfXbSLAkU",
        "colab_type": "text"
      },
      "source": [
        "As you can see, our model works better than PredictZero for this ARMA problem."
      ]
    }
  ]
}