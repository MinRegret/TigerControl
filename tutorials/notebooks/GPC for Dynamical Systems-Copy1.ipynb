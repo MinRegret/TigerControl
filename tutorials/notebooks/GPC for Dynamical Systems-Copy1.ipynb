{
 "cells": [
  {
   "cell_type": "code",
   "execution_count": 3,
   "metadata": {},
   "outputs": [
    {
     "name": "stderr",
     "output_type": "stream",
     "text": [
      "/Users/paulag/anaconda3/lib/python3.6/site-packages/jax/lib/xla_bridge.py:130: UserWarning: No GPU/TPU found, falling back to CPU.\n",
      "  warnings.warn('No GPU/TPU found, falling back to CPU.')\n"
     ]
    }
   ],
   "source": [
    "import matplotlib.pyplot as plt\n",
    "import jax.numpy as np\n",
    "import tigercontrol\n",
    "from tigercontrol.methods.control import ControlMethod\n",
    "from jax import grad,jit\n",
    "import jax\n",
    "from tigercontrol.utils.random import set_key\n",
    "import jax.random as random\n",
    "from tigercontrol.utils import generate_key"
   ]
  },
  {
   "cell_type": "code",
   "execution_count": 4,
   "metadata": {},
   "outputs": [],
   "source": [
    "import warnings\n",
    "warnings.filterwarnings('ignore')"
   ]
  },
  {
   "cell_type": "code",
   "execution_count": 5,
   "metadata": {},
   "outputs": [],
   "source": [
    "def get_trajectory(problem, method, T = 500, key = 0):\n",
    "    set_key(key)\n",
    "\n",
    "    (problem_id, problem_params) = problem\n",
    "    (method_id, method_params) = method\n",
    "    \n",
    "    problem = tigercontrol.problem(problem_id)\n",
    "    x = problem.initialize(**problem_params)\n",
    "    \n",
    "    method_params['A'], method_params['B'] = problem.A, problem.B\n",
    "    method_params['x'] = x\n",
    "    \n",
    "    method = tigercontrol.method(method_id)\n",
    "    method.initialize(**method_params)\n",
    "    \n",
    "    trajectory = []\n",
    "    norms = []\n",
    "    avg_norms = []\n",
    "    cur_avg = 0\n",
    "    \n",
    "    if(method.is_online):\n",
    "        for i in range(T):\n",
    "            u = method.plan(x)\n",
    "            x = problem.step(u)\n",
    "            trajectory.append(x) # get trajectory\n",
    "            norms.append(np.linalg.norm(x))\n",
    "            cur_avg = (i / (i + 1)) * cur_avg + (np.linalg.norm(x) + np.linalg.norm(u)) / (i + 1)\n",
    "            avg_norms.append(cur_avg)\n",
    "    else:\n",
    "        u = method.plan()\n",
    "        for i in range(T):\n",
    "            x = problem.step(u[i])\n",
    "            trajectory.append(x)\n",
    "            norms.append(np.linalg.norm(x))\n",
    "            cur_avg = (i / (i + 1)) * cur_avg + (np.linalg.norm(x) + np.linalg.norm(u[i])) / (i + 1)\n",
    "            avg_norms.append(cur_avg)\n",
    "            \n",
    "    return np.array(trajectory), np.array(norms), np.array(avg_norms)"
   ]
  },
  {
   "cell_type": "code",
   "execution_count": 6,
   "metadata": {},
   "outputs": [],
   "source": [
    "def get_avg_performance(problem, method, T = 500, n_runs = 20):\n",
    "    _, _, avg_norms = get_trajectory(problem, method, T = T, key = 0)\n",
    "    avg_norms *= (1 / n_runs)\n",
    "    for i in range(1, n_runs):\n",
    "        _, _, add = get_trajectory(problem, method, T = T, key = i)\n",
    "        avg_norms = avg_norms + (1 / n_runs) * add\n",
    "    return avg_norms"
   ]
  },
  {
   "cell_type": "markdown",
   "metadata": {},
   "source": [
    "# LDS Experiments"
   ]
  },
  {
   "cell_type": "markdown",
   "metadata": {},
   "source": [
    "For the LDS system, the matrices A, B are generated randomly. The cost function used is c(x, u) = ||x||2 + ||u||2 . The baseline is designed with the pre-fixed matrix K set to 0. In all figures, we plot the averaged results for a fixed random system determined by A, B, for each setting, over 20 experiment runs."
   ]
  },
  {
   "cell_type": "code",
   "execution_count": 7,
   "metadata": {},
   "outputs": [],
   "source": [
    "n_runs = 1"
   ]
  },
  {
   "cell_type": "markdown",
   "metadata": {},
   "source": [
    "## Sanity Check"
   ]
  },
  {
   "cell_type": "markdown",
   "metadata": {},
   "source": [
    "We experiment with a simple LDS in which the noises w_t are independently normally distributed with zero mean, and $0.1^2$ variance. We set the memory length to H = 20 for d = 1, and H = 5 for the larger dimensions. We demonstrate results for systems with different dimensions: (a) d = 1; (b) d = 10; (c) d = 100."
   ]
  },
  {
   "cell_type": "code",
   "execution_count": 8,
   "metadata": {},
   "outputs": [],
   "source": [
    "noise_magnitude = 0.1\n",
    "noise_distribution = 'normal'"
   ]
  },
  {
   "cell_type": "markdown",
   "metadata": {},
   "source": [
    "(a) d = 1, H = 20"
   ]
  },
  {
   "cell_type": "code",
   "execution_count": 9,
   "metadata": {},
   "outputs": [],
   "source": [
    "T = 200"
   ]
  },
  {
   "cell_type": "code",
   "execution_count": 10,
   "metadata": {},
   "outputs": [],
   "source": [
    "n = 1 # dimension of  the state x \n",
    "m = 1 # control dimension\n",
    "\n",
    "problem_id = \"LDS-v0\"\n",
    "problem_params = {'n': n, 'm' : m, 'noise_magnitude' : noise_magnitude, 'noise_distribution' : noise_distribution}"
   ]
  },
  {
   "cell_type": "code",
   "execution_count": 11,
   "metadata": {},
   "outputs": [],
   "source": [
    "H, HH = 20, 30\n",
    "GPC_params = {'n' : n, 'm' : m, 'H' : H, 'HH' : HH, 'K' : np.zeros((m, n))}"
   ]
  },
  {
   "cell_type": "code",
   "execution_count": 125,
   "metadata": {},
   "outputs": [],
   "source": [
    "GPC_avg_results = get_avg_performance((problem_id, problem_params), ('GPC', GPC_params), \\\n",
    "                                                              T = T, n_runs = n_runs)"
   ]
  },
  {
   "cell_type": "code",
   "execution_count": 126,
   "metadata": {},
   "outputs": [],
   "source": [
    "C = np.identity(n + m) # quadratic cost\n",
    "LQR_params = {'C' : C, 'T' : T}"
   ]
  },
  {
   "cell_type": "code",
   "execution_count": 127,
   "metadata": {},
   "outputs": [],
   "source": [
    "LQR_avg_results = get_avg_performance((problem_id, problem_params), ('LQR', LQR_params), T = T, n_runs = n_runs)"
   ]
  },
  {
   "cell_type": "code",
   "execution_count": 128,
   "metadata": {},
   "outputs": [
    {
     "data": {
      "image/png": "[encoded data removed]",
      "text/plain": [
       "<Figure size 432x288 with 1 Axes>"
      ]
     },
     "metadata": {},
     "output_type": "display_data"
    }
   ],
   "source": [
    "plt.plot(GPC_avg_results, label = \"GPC\")\n",
    "plt.plot(LQR_avg_results, label = \"LQR\")\n",
    "plt.title(\"GPC vs. LQR on LDS\");\n",
    "plt.legend();"
   ]
  },
  {
   "cell_type": "markdown",
   "metadata": {},
   "source": [
    "(b) d = 10, H = 5"
   ]
  },
  {
   "cell_type": "code",
   "execution_count": 129,
   "metadata": {},
   "outputs": [],
   "source": [
    "T = 100"
   ]
  },
  {
   "cell_type": "code",
   "execution_count": 130,
   "metadata": {},
   "outputs": [],
   "source": [
    "n = 10 # dimension of  the state x \n",
    "m = 10 # control dimension\n",
    "problem_params = {'n': n, 'm' : m, 'noise_magnitude' : noise_magnitude, 'noise_distribution' : noise_distribution}"
   ]
  },
  {
   "cell_type": "code",
   "execution_count": 131,
   "metadata": {},
   "outputs": [],
   "source": [
    "H, HH = 5, 30\n",
    "GPC_params = {'n' : n, 'm' : m, 'H' : H, 'HH' : HH, 'K' : np.zeros((m, n))}\n",
    "GPC_avg_results = get_avg_performance((problem_id, problem_params), ('GPC', GPC_params), \\\n",
    "                                                              T = T, n_runs = n_runs)"
   ]
  },
  {
   "cell_type": "code",
   "execution_count": 132,
   "metadata": {},
   "outputs": [],
   "source": [
    "C = np.identity(n + m) # quadratic cost\n",
    "LQR_params = {'C' : C, 'T' : T}\n",
    "LQR_avg_results = get_avg_performance((problem_id, problem_params), ('LQR', LQR_params), T = T, n_runs = n_runs)"
   ]
  },
  {
   "cell_type": "code",
   "execution_count": 133,
   "metadata": {},
   "outputs": [
    {
     "data": {
      "image/png": "[encoded data removed]",
      "text/plain": [
       "<Figure size 432x288 with 1 Axes>"
      ]
     },
     "metadata": {},
     "output_type": "display_data"
    }
   ],
   "source": [
    "plt.plot(GPC_avg_results, label = \"GPC\")\n",
    "plt.plot(LQR_avg_results, label = \"LQR\")\n",
    "plt.title(\"GPC vs. LQR on LDS\");\n",
    "plt.legend();"
   ]
  },
  {
   "cell_type": "markdown",
   "metadata": {},
   "source": [
    "(c) d = 100, H = 5"
   ]
  },
  {
   "cell_type": "code",
   "execution_count": 134,
   "metadata": {},
   "outputs": [],
   "source": [
    "T = 100"
   ]
  },
  {
   "cell_type": "code",
   "execution_count": 135,
   "metadata": {},
   "outputs": [
    {
     "data": {
      "image/png": "[encoded data removed]",
      "text/plain": [
       "<Figure size 432x288 with 1 Axes>"
      ]
     },
     "metadata": {},
     "output_type": "display_data"
    }
   ],
   "source": [
    "## PROBLEM ##\n",
    "n = 100 # dimension of  the state x \n",
    "m = 100 # control dimension\n",
    "problem_params = {'n': n, 'm' : m, 'noise_magnitude' : noise_magnitude, 'noise_distribution' : noise_distribution}\n",
    "\n",
    "## GPC ###\n",
    "H, HH = 5, 30\n",
    "GPC_params = {'n' : n, 'm' : m, 'H' : H, 'HH' : HH, 'K' : np.zeros((m, n))}\n",
    "GPC_avg_results = get_avg_performance((problem_id, problem_params), ('GPC', GPC_params), \\\n",
    "                                                              T = T, n_runs = n_runs)\n",
    "\n",
    "## LQR ##\n",
    "C = np.identity(n + m) # quadratic cost\n",
    "LQR_params = {'C' : C, 'T' : T}\n",
    "LQR_avg_results = get_avg_performance((problem_id, problem_params), ('LQR', LQR_params), T = T, n_runs = n_runs)\n",
    "\n",
    "## RESULTS ##\n",
    "plt.plot(GPC_avg_results, label = \"GPC\")\n",
    "plt.plot(LQR_avg_results, label = \"LQR\")\n",
    "plt.title(\"GPC vs. LQR on LDS\");\n",
    "plt.legend();"
   ]
  },
  {
   "cell_type": "markdown",
   "metadata": {},
   "source": [
    "## Correlated noise experiment"
   ]
  },
  {
   "cell_type": "markdown",
   "metadata": {},
   "source": [
    "### Gaussian Random Walk"
   ]
  },
  {
   "cell_type": "markdown",
   "metadata": {},
   "source": [
    "In the first setting, the noise terms are $w_{t+1} ∼ N(w_t,0.3^2)$, and are then clipped to the range [−1, 1]."
   ]
  },
  {
   "cell_type": "code",
   "execution_count": 136,
   "metadata": {},
   "outputs": [],
   "source": [
    "T = 500"
   ]
  },
  {
   "cell_type": "code",
   "execution_count": 137,
   "metadata": {},
   "outputs": [],
   "source": [
    "noise_magnitude = 0.3"
   ]
  },
  {
   "cell_type": "code",
   "execution_count": 138,
   "metadata": {},
   "outputs": [],
   "source": [
    "def get_next_w(n, x, u, w, t):\n",
    "    next_w = w + noise_magnitude * random.normal(generate_key())\n",
    "    next_w = min(1, next_w)\n",
    "    next_w = max(-1, next_w)\n",
    "    return next_w"
   ]
  },
  {
   "cell_type": "code",
   "execution_count": null,
   "metadata": {},
   "outputs": [],
   "source": [
    "## PROBLEM ##\n",
    "n = 1 # dimension of  the state x \n",
    "m = 1 # control dimension\n",
    "problem_params = {'n': n, 'm' : m, 'noise_distribution' : get_next_w}\n",
    "\n",
    "## GPC ###\n",
    "H, HH = 20, 30\n",
    "GPC_params = {'n' : n, 'm' : m, 'H' : H, 'HH' : HH, 'K' : np.zeros((m, n))}\n",
    "GPC_avg_results = get_avg_performance((problem_id, problem_params), ('GPC', GPC_params), \\\n",
    "                                                              T = T, n_runs = n_runs)\n",
    "\n",
    "## LQR ##\n",
    "C = np.identity(n + m) # quadratic cost\n",
    "LQR_params = {'C' : C, 'T' : T}\n",
    "LQR_avg_results = get_avg_performance((problem_id, problem_params), ('LQR', LQR_params), T = T, n_runs = n_runs)\n",
    "\n",
    "## RESULTS ##\n",
    "plt.plot(GPC_avg_results, label = \"GPC\")\n",
    "plt.plot(LQR_avg_results, label = \"LQR\")\n",
    "plt.title(\"GPC vs. LQR on LDS\");\n",
    "plt.legend();"
   ]
  },
  {
   "cell_type": "markdown",
   "metadata": {},
   "source": [
    "### Sine Noise"
   ]
  },
  {
   "cell_type": "markdown",
   "metadata": {},
   "source": [
    "The sine function is applied to the time index, i.e., $w_t = sin(t)$."
   ]
  },
  {
   "cell_type": "code",
   "execution_count": 12,
   "metadata": {},
   "outputs": [],
   "source": [
    "T = 200"
   ]
  },
  {
   "cell_type": "code",
   "execution_count": 13,
   "metadata": {},
   "outputs": [],
   "source": [
    "def get_next_w(n, x, u, w, t):\n",
    "    return np.sin(t)"
   ]
  },
  {
   "cell_type": "code",
   "execution_count": null,
   "metadata": {},
   "outputs": [],
   "source": [
    "## PROBLEM ##\n",
    "n = 1 # dimension of  the state x \n",
    "m = 1 # control dimension\n",
    "problem_params = {'n': n, 'm' : m, 'noise_distribution' : get_next_w}\n",
    "\n",
    "## GPC ###\n",
    "H, HH = 5, 30\n",
    "GPC_params = {'n' : n, 'm' : m, 'H' : H, 'HH' : HH, 'K' : np.zeros((m, n))}\n",
    "GPC_avg_results = get_avg_performance((problem_id, problem_params), ('GPC', GPC_params), \\\n",
    "                                                              T = T, n_runs = n_runs)\n",
    "\n",
    "## LQR ##\n",
    "C = np.identity(n + m) # quadratic cost\n",
    "LQR_params = {'C' : C, 'T' : T}\n",
    "LQR_avg_results = get_avg_performance((problem_id, problem_params), ('LQR', LQR_params), T = T, n_runs = n_runs)\n",
    "\n",
    "## RESULTS ##\n",
    "plt.plot(GPC_avg_results, label = \"GPC\")\n",
    "plt.plot(LQR_avg_results, label = \"LQR\")\n",
    "plt.title(\"GPC vs. LQR on LDS\");\n",
    "plt.legend();"
   ]
  }
 ],
 "metadata": {
  "kernelspec": {
   "display_name": "Python 3",
   "language": "python",
   "name": "python3"
  },
  "language_info": {
   "codemirror_mode": {
    "name": "ipython",
    "version": 3
   },
   "file_extension": ".py",
   "mimetype": "text/x-python",
   "name": "python",
   "nbconvert_exporter": "python",
   "pygments_lexer": "ipython3",
   "version": "3.6.5"
  }
 },
 "nbformat": 4,
 "nbformat_minor": 2
}
