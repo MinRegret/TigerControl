{
 "cells": [
  {
   "cell_type": "code",
   "execution_count": 1,
   "metadata": {},
   "outputs": [
    {
     "name": "stderr",
     "output_type": "stream",
     "text": [
      "/Users/paulag/anaconda3/lib/python3.6/site-packages/jax/lib/xla_bridge.py:130: UserWarning: No GPU/TPU found, falling back to CPU.\n",
      "  warnings.warn('No GPU/TPU found, falling back to CPU.')\n"
     ]
    }
   ],
   "source": [
    "import tigercontrol\n",
    "from tigercontrol.experiments import Experiment\n",
    "from tigercontrol.methods.optimizers import *"
   ]
  },
  {
   "cell_type": "code",
   "execution_count": 2,
   "metadata": {},
   "outputs": [],
   "source": [
    "exp = Experiment()\n",
    "exp.initialize(timesteps = 100)\n",
    "exp.add_problem('MyProblem-v0', {'file' : 'data/enso.csv'})\n",
    "exp.add_method('LSTM', {'l' : 32, 'h' : 64, 'optimizer' : OGD}, name = '32-64-OGD')\n",
    "exp.add_method('LSTM', {'l' : 32, 'h' : 64, 'optimizer' : Adagrad}, name = '32-64-Adagrad')\n",
    "exp.add_method('LSTM', {'l' : 32, 'h' : 64,  'optimizer' : Adam}, name = '32-64-Adam')\n",
    "\n",
    "exp.add_method('SimpleBoost', {'method_id': 'LSTM', 'method_params': {'optimizer' : OGD}}, name = 'LSTM-OGD')\n",
    "#exp.add_method('SimpleBoost', {'method_id': 'LSTM', \\\n",
    "#    'method_params': {'n' : 1, 'm' : 1, 'optimizer' : Adagrad}}, name = 'LSTM-Adagrad')\n",
    "#exp.add_method('SimpleBoost', {'method_id': 'LSTM', \\\n",
    "#    'method_params': {'n' : 1, 'm' : 1, 'optimizer' : Adam}}, name = 'LSTM-Adam')"
   ]
  },
  {
   "cell_type": "code",
   "execution_count": 3,
   "metadata": {},
   "outputs": [
    {
     "name": "stdout",
     "output_type": "stream",
     "text": [
      "Average mse:\n",
      "+----------------------+-----------+\n",
      "|   Method\\Problems    | MyPr..em- |\n",
      "+----------------------+-----------+\n",
      "|    LSTM-32-64-OGD    |    nan    |\n",
      "|  LSTM-32-64-Adagrad  |    nan    |\n",
      "|   LSTM-32-64-Adam    |    nan    |\n",
      "| SimpleBoost-LSTM-OGD |    nan    |\n",
      "+----------------------+-----------+\n"
     ]
    }
   ],
   "source": [
    "exp.scoreboard()"
   ]
  },
  {
   "cell_type": "code",
   "execution_count": null,
   "metadata": {},
   "outputs": [],
   "source": [
    "exp.graph(yscale = 'log')"
   ]
  }
 ],
 "metadata": {
  "kernelspec": {
   "display_name": "Python 3",
   "language": "python",
   "name": "python3"
  },
  "language_info": {
   "codemirror_mode": {
    "name": "ipython",
    "version": 3
   },
   "file_extension": ".py",
   "mimetype": "text/x-python",
   "name": "python",
   "nbconvert_exporter": "python",
   "pygments_lexer": "ipython3",
   "version": "3.6.5"
  }
 },
 "nbformat": 4,
 "nbformat_minor": 2
}
