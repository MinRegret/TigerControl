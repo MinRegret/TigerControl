{
 "cells": [
  {
   "cell_type": "code",
   "execution_count": 2,
   "metadata": {},
   "outputs": [
    {
     "name": "stdout",
     "output_type": "stream",
     "text": [
      "Collecting git+https://github.com/MinRegret/tigercontrol.git\n",
      "  Cloning https://github.com/MinRegret/tigercontrol.git to /private/var/folders/7f/s33r9hxx1wg05ggrbzwk4zzc0000gn/T/pip-req-build-smelmas2\n",
      "  Running command git clone -q https://github.com/MinRegret/tigercontrol.git /private/var/folders/7f/s33r9hxx1wg05ggrbzwk4zzc0000gn/T/pip-req-build-smelmas2\n",
      "Requirement already satisfied (use --upgrade to upgrade): tigercontrol==0.1 from git+https://github.com/MinRegret/tigercontrol.git in /Users/johnhallman/mlcourse/senior_ml/tigercontrol\n",
      "Requirement already satisfied: future in /anaconda/envs/robot-env/lib/python3.6/site-packages (from tigercontrol==0.1) (0.17.1)\n",
      "Requirement already satisfied: numpy in /anaconda/envs/robot-env/lib/python3.6/site-packages (from tigercontrol==0.1) (1.17.0)\n",
      "Requirement already satisfied: jax in /anaconda/envs/robot-env/lib/python3.6/site-packages (from tigercontrol==0.1) (0.1.46)\n",
      "Requirement already satisfied: jaxlib in /anaconda/envs/robot-env/lib/python3.6/site-packages (from tigercontrol==0.1) (0.1.29)\n",
      "Requirement already satisfied: setuptools in /Users/johnhallman/.local/lib/python3.6/site-packages (from tigercontrol==0.1) (41.0.1)\n",
      "Requirement already satisfied: memory_profiler in /anaconda/envs/robot-env/lib/python3.6/site-packages (from tigercontrol==0.1) (0.55.0)\n",
      "Requirement already satisfied: matplotlib in /anaconda/envs/robot-env/lib/python3.6/site-packages (from tigercontrol==0.1) (3.1.1)\n",
      "Requirement already satisfied: pandas in /anaconda/envs/robot-env/lib/python3.6/site-packages (from tigercontrol==0.1) (0.25.0)\n",
      "Requirement already satisfied: xlrd in /anaconda/envs/robot-env/lib/python3.6/site-packages (from tigercontrol==0.1) (1.2.0)\n",
      "Requirement already satisfied: tqdm in /anaconda/envs/robot-env/lib/python3.6/site-packages (from tigercontrol==0.1) (4.32.2)\n",
      "Requirement already satisfied: PrettyTable in /anaconda/envs/robot-env/lib/python3.6/site-packages (from tigercontrol==0.1) (0.7.2)\n",
      "Requirement already satisfied: gym in /anaconda/envs/robot-env/lib/python3.6/site-packages (from tigercontrol==0.1) (0.14.0)\n",
      "Requirement already satisfied: cvxopt in /anaconda/envs/robot-env/lib/python3.6/site-packages (from tigercontrol==0.1) (1.2.3)\n",
      "Requirement already satisfied: protobuf>=3.6.0 in /anaconda/envs/robot-env/lib/python3.6/site-packages (from jax->tigercontrol==0.1) (3.8.0)\n",
      "Requirement already satisfied: fastcache in /anaconda/envs/robot-env/lib/python3.6/site-packages (from jax->tigercontrol==0.1) (1.0.2)\n",
      "Requirement already satisfied: absl-py in /anaconda/envs/robot-env/lib/python3.6/site-packages (from jax->tigercontrol==0.1) (0.7.1)\n",
      "Requirement already satisfied: six in /anaconda/envs/robot-env/lib/python3.6/site-packages (from jax->tigercontrol==0.1) (1.12.0)\n",
      "Requirement already satisfied: opt-einsum in /anaconda/envs/robot-env/lib/python3.6/site-packages (from jax->tigercontrol==0.1) (2.3.2)\n",
      "Requirement already satisfied: scipy in /anaconda/envs/robot-env/lib/python3.6/site-packages (from jaxlib->tigercontrol==0.1) (1.2.1)\n",
      "Requirement already satisfied: psutil in /anaconda/envs/robot-env/lib/python3.6/site-packages (from memory_profiler->tigercontrol==0.1) (5.6.1)\n",
      "Requirement already satisfied: python-dateutil>=2.1 in /anaconda/envs/robot-env/lib/python3.6/site-packages (from matplotlib->tigercontrol==0.1) (2.8.0)\n",
      "Requirement already satisfied: kiwisolver>=1.0.1 in /anaconda/envs/robot-env/lib/python3.6/site-packages (from matplotlib->tigercontrol==0.1) (1.0.1)\n",
      "Requirement already satisfied: pyparsing!=2.0.4,!=2.1.2,!=2.1.6,>=2.0.1 in /anaconda/envs/robot-env/lib/python3.6/site-packages (from matplotlib->tigercontrol==0.1) (2.3.1)\n",
      "Requirement already satisfied: cycler>=0.10 in /anaconda/envs/robot-env/lib/python3.6/site-packages (from matplotlib->tigercontrol==0.1) (0.10.0)\n",
      "Requirement already satisfied: pytz>=2017.2 in /anaconda/envs/robot-env/lib/python3.6/site-packages (from pandas->tigercontrol==0.1) (2018.9)\n",
      "Requirement already satisfied: pyglet<=1.3.2,>=1.2.0 in /anaconda/envs/robot-env/lib/python3.6/site-packages (from gym->tigercontrol==0.1) (1.3.2)\n",
      "Requirement already satisfied: cloudpickle~=1.2.0 in /anaconda/envs/robot-env/lib/python3.6/site-packages (from gym->tigercontrol==0.1) (1.2.1)\n",
      "Building wheels for collected packages: tigercontrol\n",
      "  Building wheel for tigercontrol (setup.py) ... \u001b[?25ldone\n",
      "\u001b[?25h  Created wheel for tigercontrol: filename=tigercontrol-0.1-cp36-none-any.whl size=155312 sha256=50aeb5dadd63e0c0a3f14cf3a7dbb401e3d3e7dee3ec4c4a21b3604d7f815421\n",
      "  Stored in directory: /private/var/folders/7f/s33r9hxx1wg05ggrbzwk4zzc0000gn/T/pip-ephem-wheel-cache-6y2yejhd/wheels/68/8c/d4/4545a6bf5fe7fde74989bdda96791b48a263e7ddc5d401a4e2\n",
      "Successfully built tigercontrol\n",
      "\u001b[33mWARNING: You are using pip version 19.2.3, however version 19.3 is available.\n",
      "You should consider upgrading via the 'pip install --upgrade pip' command.\u001b[0m\n"
     ]
    }
   ],
   "source": [
    "!pip install git+https://github.com/MinRegret/tigercontrol.git"
   ]
  },
  {
   "cell_type": "code",
   "execution_count": 5,
   "metadata": {},
   "outputs": [
    {
     "ename": "ModuleNotFoundError",
     "evalue": "No module named 'tigercontrol'",
     "output_type": "error",
     "traceback": [
      "\u001b[0;31m---------------------------------------------------------------------------\u001b[0m",
      "\u001b[0;31mModuleNotFoundError\u001b[0m                       Traceback (most recent call last)",
      "\u001b[0;32m<ipython-input-5-3b23dc5bfd6a>\u001b[0m in \u001b[0;36m<module>\u001b[0;34m\u001b[0m\n\u001b[1;32m      1\u001b[0m \u001b[0;32mimport\u001b[0m \u001b[0mmatplotlib\u001b[0m\u001b[0;34m.\u001b[0m\u001b[0mpyplot\u001b[0m \u001b[0;32mas\u001b[0m \u001b[0mplt\u001b[0m\u001b[0;34m\u001b[0m\u001b[0m\n\u001b[1;32m      2\u001b[0m \u001b[0;32mimport\u001b[0m \u001b[0mjax\u001b[0m\u001b[0;34m.\u001b[0m\u001b[0mnumpy\u001b[0m \u001b[0;32mas\u001b[0m \u001b[0mnp\u001b[0m\u001b[0;34m\u001b[0m\u001b[0m\n\u001b[0;32m----> 3\u001b[0;31m \u001b[0;32mimport\u001b[0m \u001b[0mtigercontrol\u001b[0m\u001b[0;34m\u001b[0m\u001b[0m\n\u001b[0m\u001b[1;32m      4\u001b[0m \u001b[0;32mfrom\u001b[0m \u001b[0mtigercontrol\u001b[0m\u001b[0;34m.\u001b[0m\u001b[0mmethods\u001b[0m\u001b[0;34m.\u001b[0m\u001b[0mcontrol\u001b[0m \u001b[0;32mimport\u001b[0m \u001b[0mControlMethod\u001b[0m\u001b[0;34m\u001b[0m\u001b[0m\n\u001b[1;32m      5\u001b[0m \u001b[0;32mfrom\u001b[0m \u001b[0mjax\u001b[0m \u001b[0;32mimport\u001b[0m \u001b[0mgrad\u001b[0m\u001b[0;34m,\u001b[0m\u001b[0mjit\u001b[0m\u001b[0;34m\u001b[0m\u001b[0m\n",
      "\u001b[0;31mModuleNotFoundError\u001b[0m: No module named 'tigercontrol'"
     ]
    }
   ],
   "source": [
    "import matplotlib.pyplot as plt\n",
    "import jax.numpy as np\n",
    "import tigercontrol\n",
    "from tigercontrol.methods.control import ControlMethod\n",
    "from jax import grad,jit\n",
    "import jax\n",
    "from tigercontrol.utils.random import set_key"
   ]
  },
  {
   "cell_type": "code",
   "execution_count": 2,
   "metadata": {},
   "outputs": [],
   "source": [
    "def get_trajectory(problem, method, key = 0, T = 100):\n",
    "    set_key(key)\n",
    "\n",
    "    (problem_id, problem_params) = problem\n",
    "    (method_id, method_params) = method\n",
    "    \n",
    "    problem = tigercontrol.problem(problem_id)\n",
    "    x = problem.initialize(**problem_params)\n",
    "    \n",
    "    method_params['A'], method_params['B'] = problem.A, problem.B\n",
    "    method_params['x'] = x\n",
    "    \n",
    "    method = tigercontrol.method(method_id)\n",
    "    method.initialize(**method_params)\n",
    "    \n",
    "    trajectory = []\n",
    "    norms = []\n",
    "    avg_regret = []\n",
    "    cur_avg = 0\n",
    "    \n",
    "    if(method.is_online):\n",
    "        for i in range(T):\n",
    "            u = method.plan(x)\n",
    "            x = problem.step(u)\n",
    "            trajectory.append(x) # get trajectory\n",
    "            norms.append(np.linalg.norm(x))\n",
    "            cur_avg = (i / (i + 1)) * cur_avg + np.linalg.norm(x) / (i + 1)\n",
    "            avg_regret.append(cur_avg)\n",
    "    else:\n",
    "        u = method.plan()\n",
    "        for i in range(T):\n",
    "            x = problem.step(u[i])\n",
    "            trajectory.append(x)\n",
    "            norms.append(np.linalg.norm(x))\n",
    "            cur_avg = (i / (i + 1)) * cur_avg + np.linalg.norm(x) / (i + 1)\n",
    "            avg_regret.append(cur_avg)\n",
    "            \n",
    "    return trajectory, norms, avg_regret"
   ]
  },
  {
   "cell_type": "code",
   "execution_count": 10,
   "metadata": {},
   "outputs": [],
   "source": [
    "T = 50"
   ]
  },
  {
   "cell_type": "code",
   "execution_count": 11,
   "metadata": {},
   "outputs": [],
   "source": [
    "n = 3 # dimension of  the state x \n",
    "m = 5 # control dimension\n",
    "noise_magnitude = 0.2\n",
    "noise_distribution = 'normal'\n",
    "\n",
    "problem_id = \"LDS-v0\"\n",
    "problem_params = {'n': n, 'm' : m, 'noise_magnitude' : noise_magnitude, 'noise_distribution' : noise_distribution}"
   ]
  },
  {
   "cell_type": "code",
   "execution_count": 12,
   "metadata": {},
   "outputs": [],
   "source": [
    "H, HH = 3, 30\n",
    "GPC_params = {'n' : n, 'm' : m, 'H' : H, 'HH' : HH, 'K' : np.zeros((m, n))}"
   ]
  },
  {
   "cell_type": "code",
   "execution_count": null,
   "metadata": {},
   "outputs": [],
   "source": [
    "GPC_results, GPC_norms, GPC_avg_results = get_trajectory((problem_id, problem_params), ('GPC', GPC_params), key = 0, T = T)"
   ]
  },
  {
   "cell_type": "code",
   "execution_count": 14,
   "metadata": {},
   "outputs": [],
   "source": [
    "C = np.identity(n + m) # quadratic cost\n",
    "LQR_params = {'C' : C, 'T' : T}"
   ]
  },
  {
   "cell_type": "code",
   "execution_count": null,
   "metadata": {},
   "outputs": [],
   "source": [
    "LQR_results, LQR_norms, LQR_avg_results = get_trajectory((problem_id, problem_params), ('LQR', LQR_params), key = 0, T = T)"
   ]
  },
  {
   "cell_type": "code",
   "execution_count": 16,
   "metadata": {},
   "outputs": [
    {
     "data": {
      "image/png": "[encoded data removed]",
      "text/plain": [
       "<Figure size 432x288 with 1 Axes>"
      ]
     },
     "metadata": {},
     "output_type": "display_data"
    }
   ],
   "source": [
    "plt.plot(GPC_norms, label = \"GPC\")\n",
    "plt.plot(LQR_norms, label = \"LQR\")\n",
    "plt.title(\"GPC vs. LQR on LDS\");\n",
    "plt.legend();"
   ]
  }
 ],
 "metadata": {
  "kernelspec": {
   "display_name": "Python 3",
   "language": "python",
   "name": "python3"
  },
  "language_info": {
   "codemirror_mode": {
    "name": "ipython",
    "version": 3
   },
   "file_extension": ".py",
   "mimetype": "text/x-python",
   "name": "python",
   "nbconvert_exporter": "python",
   "pygments_lexer": "ipython3",
   "version": "3.6.4"
  }
 },
 "nbformat": 4,
 "nbformat_minor": 2
}
