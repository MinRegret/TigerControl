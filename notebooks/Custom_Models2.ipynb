{
  "nbformat": 4,
  "nbformat_minor": 0,
  "metadata": {
    "colab": {
      "name": "Custom Models.ipynb",
      "version": "0.3.2",
      "provenance": [],
      "include_colab_link": true
    },
    "kernelspec": {
      "name": "python3",
      "display_name": "Python 3"
    }
  },
  "cells": [
    {
      "cell_type": "markdown",
      "metadata": {
        "id": "view-in-github",
        "colab_type": "text"
      },
      "source": [
        "<a href=\"https://colab.research.google.com/github/johnhallman/ctsb/blob/add_colab_notebooks/notebooks/Custom_Models2.ipynb\" target=\"_parent\"><img src=\"https://colab.research.google.com/assets/colab-badge.svg\" alt=\"Open In Colab\"/></a>"
      ]
    },
    {
      "cell_type": "markdown",
      "metadata": {
        "id": "9R-oR6oFCaxF",
        "colab_type": "text"
      },
      "source": [
        "Let us introduce you to custom models in CTSB!"
      ]
    },
    {
      "cell_type": "code",
      "metadata": {
        "id": "aMdCHy5_CQ2T",
        "colab_type": "code",
        "colab": {}
      },
      "source": [
        "%%capture\n",
        "!pip install git+https://github.com/johnhallman/ctsb.git"
      ],
      "execution_count": 0,
      "outputs": []
    },
    {
      "cell_type": "code",
      "metadata": {
        "id": "Lukwr_zeCZCH",
        "colab_type": "code",
        "colab": {}
      },
      "source": [
        "import ctsb\n",
        "import jax.numpy as np"
      ],
      "execution_count": 0,
      "outputs": []
    },
    {
      "cell_type": "code",
      "metadata": {
        "id": "Z4xaJwHdJ_mP",
        "colab_type": "code",
        "colab": {}
      },
      "source": [
        "class MyModel(ctsb.CustomModel):\n",
        "  \n",
        "  def initialize(self, params):\n",
        "    self.params = params\n",
        "    \n",
        "  def predict(self, x):\n",
        "    return x\n",
        "  \n",
        "  def update(self, y):\n",
        "    pass"
      ],
      "execution_count": 0,
      "outputs": []
    },
    {
      "cell_type": "code",
      "metadata": {
        "id": "dcNKO4W5KKtY",
        "colab_type": "code",
        "colab": {}
      },
      "source": [
        "ctsb.register_custom_model(MyModel, \"NameOfMyModel\")"
      ],
      "execution_count": 0,
      "outputs": []
    },
    {
      "cell_type": "code",
      "metadata": {
        "id": "HJs3n1NWKKzh",
        "colab_type": "code",
        "colab": {}
      },
      "source": [
        "m = ctsb.model(\"NameOfMyModel\")"
      ],
      "execution_count": 0,
      "outputs": []
    },
    {
      "cell_type": "code",
      "metadata": {
        "id": "gf869dLRKK2k",
        "colab_type": "code",
        "colab": {
          "base_uri": "https://localhost:8080/",
          "height": 34
        },
        "outputId": "80227c62-32af-4273-be5b-ed12ad8d2029"
      },
      "source": [
        "m.predict(1)"
      ],
      "execution_count": 13,
      "outputs": [
        {
          "output_type": "execute_result",
          "data": {
            "text/plain": [
              "1"
            ]
          },
          "metadata": {
            "tags": []
          },
          "execution_count": 13
        }
      ]
    },
    {
      "cell_type": "code",
      "metadata": {
        "id": "9a8I8NJ3KK4u",
        "colab_type": "code",
        "colab": {}
      },
      "source": [
        ""
      ],
      "execution_count": 0,
      "outputs": []
    },
    {
      "cell_type": "code",
      "metadata": {
        "id": "1-NXzZ1oCmTk",
        "colab_type": "code",
        "colab": {}
      },
      "source": [
        "\n",
        "import matplotlib.pyplot as plt\n",
        "\n",
        "T = 100\n",
        "p, q = 3, 3\n",
        "problem = ctsb.problem(\"ARMA-v0\") #ARMA()\n",
        "problem.initialize(p,q)\n",
        "test_output = []\n",
        "for t in range(T):\n",
        "    test_output.append(problem.step())\n",
        "\n",
        "info = problem.hidden()\n",
        "print(\"info: \" + str(info))\n",
        "\n",
        "plt.plot(test_output)\n",
        "plt.title(\"arma\")\n",
        "plt.show(block=False)"
      ],
      "execution_count": 0,
      "outputs": []
    }
  ]
}