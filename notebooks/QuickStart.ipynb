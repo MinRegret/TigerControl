{
  "nbformat": 4,
  "nbformat_minor": 0,
  "metadata": {
    "colab": {
      "name": "Copy of Untitled1.ipynb",
      "version": "0.3.2",
      "provenance": [],
      "collapsed_sections": [],
      "include_colab_link": true
    },
    "kernelspec": {
      "name": "python3",
      "display_name": "Python 3"
    }
  },
  "cells": [
    {
      "cell_type": "markdown",
      "metadata": {
        "id": "view-in-github",
        "colab_type": "text"
      },
      "source": [
        "<a href=\"https://colab.research.google.com/github/johnhallman/ctsb/blob/add_colab_notebooks/notebooks/QuickStart.ipynb\" target=\"_parent\"><img src=\"https://colab.research.google.com/assets/colab-badge.svg\" alt=\"Open In Colab\"/></a>"
      ]
    },
    {
      "cell_type": "code",
      "metadata": {
        "id": "f6PPx8bGuec9",
        "colab_type": "code",
        "colab": {
          "base_uri": "https://localhost:8080/",
          "height": 663
        },
        "outputId": "cd118800-b26a-4580-fc9c-76829f932e0b"
      },
      "source": [
        "!pip install git+https://github.com/johnhallman/ctsb.git"
      ],
      "execution_count": 2,
      "outputs": [
        {
          "output_type": "stream",
          "text": [
            "Collecting git+https://github.com/johnhallman/ctsb.git\n",
            "  Cloning https://github.com/johnhallman/ctsb.git to /tmp/pip-req-build-p0kg86nw\n",
            "  Running command git clone -q https://github.com/johnhallman/ctsb.git /tmp/pip-req-build-p0kg86nw\n",
            "Requirement already satisfied: future in /usr/local/lib/python3.6/dist-packages (from ctsb==0.1) (0.16.0)\n",
            "Requirement already satisfied: numpy in /usr/local/lib/python3.6/dist-packages (from ctsb==0.1) (1.16.4)\n",
            "Collecting jax (from ctsb==0.1)\n",
            "\u001b[?25l  Downloading https://files.pythonhosted.org/packages/97/0d/00779b66ee6b8c10b2ece1eeba9ff1c64b1289a71d60e1bbe68f4db2a702/jax-0.1.39.tar.gz (197kB)\n",
            "\u001b[K     |████████████████████████████████| 204kB 2.9MB/s \n",
            "\u001b[?25hCollecting jaxlib (from ctsb==0.1)\n",
            "\u001b[?25l  Downloading https://files.pythonhosted.org/packages/3d/68/897c8632a50d56834858374ad6e37f9dbf0d49eb801c994bcd4c441c87c6/jaxlib-0.1.21-cp36-none-manylinux1_x86_64.whl (23.3MB)\n",
            "\u001b[K     |████████████████████████████████| 23.3MB 86.3MB/s \n",
            "\u001b[?25hRequirement already satisfied: setuptools in /usr/local/lib/python3.6/dist-packages (from ctsb==0.1) (41.0.1)\n",
            "Requirement already satisfied: matplotlib in /usr/local/lib/python3.6/dist-packages (from ctsb==0.1) (3.0.3)\n",
            "Requirement already satisfied: pandas in /usr/local/lib/python3.6/dist-packages (from ctsb==0.1) (0.24.2)\n",
            "Requirement already satisfied: xlrd in /usr/local/lib/python3.6/dist-packages (from ctsb==0.1) (1.1.0)\n",
            "Requirement already satisfied: tqdm in /usr/local/lib/python3.6/dist-packages (from ctsb==0.1) (4.28.1)\n",
            "Requirement already satisfied: six in /usr/local/lib/python3.6/dist-packages (from jax->ctsb==0.1) (1.12.0)\n",
            "Requirement already satisfied: protobuf>=3.6.0 in /usr/local/lib/python3.6/dist-packages (from jax->ctsb==0.1) (3.7.1)\n",
            "Requirement already satisfied: absl-py in /usr/local/lib/python3.6/dist-packages (from jax->ctsb==0.1) (0.7.1)\n",
            "Collecting opt_einsum (from jax->ctsb==0.1)\n",
            "\u001b[?25l  Downloading https://files.pythonhosted.org/packages/f6/d6/44792ec668bcda7d91913c75237314e688f70415ab2acd7172c845f0b24f/opt_einsum-2.3.2.tar.gz (59kB)\n",
            "\u001b[K     |████████████████████████████████| 61kB 21.8MB/s \n",
            "\u001b[?25hRequirement already satisfied: scipy in /usr/local/lib/python3.6/dist-packages (from jaxlib->ctsb==0.1) (1.3.0)\n",
            "Requirement already satisfied: kiwisolver>=1.0.1 in /usr/local/lib/python3.6/dist-packages (from matplotlib->ctsb==0.1) (1.1.0)\n",
            "Requirement already satisfied: pyparsing!=2.0.4,!=2.1.2,!=2.1.6,>=2.0.1 in /usr/local/lib/python3.6/dist-packages (from matplotlib->ctsb==0.1) (2.4.0)\n",
            "Requirement already satisfied: cycler>=0.10 in /usr/local/lib/python3.6/dist-packages (from matplotlib->ctsb==0.1) (0.10.0)\n",
            "Requirement already satisfied: python-dateutil>=2.1 in /usr/local/lib/python3.6/dist-packages (from matplotlib->ctsb==0.1) (2.5.3)\n",
            "Requirement already satisfied: pytz>=2011k in /usr/local/lib/python3.6/dist-packages (from pandas->ctsb==0.1) (2018.9)\n",
            "Building wheels for collected packages: ctsb, jax, opt-einsum\n",
            "  Building wheel for ctsb (setup.py) ... \u001b[?25l\u001b[?25hdone\n",
            "  Stored in directory: /tmp/pip-ephem-wheel-cache-hs0noxda/wheels/2d/32/9f/5cdc8cdf5dded04c93d7f755e06675ac913135abe154b3b018\n",
            "  Building wheel for jax (setup.py) ... \u001b[?25l\u001b[?25hdone\n",
            "  Stored in directory: /root/.cache/pip/wheels/1b/2f/52/6be8e30705d02706282ba8880592670cdbdd686ac2fc04404c\n",
            "  Building wheel for opt-einsum (setup.py) ... \u001b[?25l\u001b[?25hdone\n",
            "  Stored in directory: /root/.cache/pip/wheels/51/3e/a3/b351fae0cbf15373c2136a54a70f43fea5fe91d8168a5faaa4\n",
            "Successfully built ctsb jax opt-einsum\n",
            "Installing collected packages: opt-einsum, jax, jaxlib, ctsb\n",
            "Successfully installed ctsb-0.1 jax-0.1.39 jaxlib-0.1.21 opt-einsum-2.3.2\n"
          ],
          "name": "stdout"
        }
      ]
    },
    {
      "cell_type": "markdown",
      "metadata": {
        "id": "U3sJLRDmDt6B",
        "colab_type": "text"
      },
      "source": [
        "# The Problem class\n",
        "The Problem class is the abstraction used to implement control and time series tasks. CTSB comes pre-loaded with several classical problems (both simulated and real world data) such as ARMA time series or linear dynamical systems. Below we demonstrate how to initialize a problem and step through the simulated time series generated by an ARMA. The initialize() method returns the initial observation. We can also query the hidden state of the system.\n"
      ]
    },
    {
      "cell_type": "code",
      "metadata": {
        "id": "bMmR4FCeCxiq",
        "colab_type": "code",
        "outputId": "586538a0-688c-4a25-f52e-f4a563e10229",
        "colab": {
          "base_uri": "https://localhost:8080/",
          "height": 332
        }
      },
      "source": [
        "import ctsb\n",
        "import jax.numpy as np\n",
        "import matplotlib.pyplot as plt\n",
        "\n",
        "T = 100\n",
        "p, q = 3, 3\n",
        "problem = ctsb.problem(\"ARMA-v0\")\n",
        "problem.initialize(p,q)\n",
        "test_output = []\n",
        "for t in range(T):\n",
        "    test_output.append(problem.step())\n",
        "\n",
        "info = problem.hidden()\n",
        "print(\"info: \" + str(info))\n",
        "\n",
        "plt.plot(test_output)\n",
        "plt.title(\"arma\")\n",
        "plt.show(block=False)\n"
      ],
      "execution_count": 3,
      "outputs": [
        {
          "output_type": "stream",
          "text": [
            "/usr/local/lib/python3.6/dist-packages/jax/lib/xla_bridge.py:130: UserWarning: No GPU/TPU found, falling back to CPU.\n",
            "  warnings.warn('No GPU/TPU found, falling back to CPU.')\n"
          ],
          "name": "stderr"
        },
        {
          "output_type": "stream",
          "text": [
            "info: (DeviceArray([-2.11464667,  1.22447217, -0.44259712], dtype=float32), DeviceArray([-0.62037593, -0.48761576,  0.99079001], dtype=float32))\n"
          ],
          "name": "stdout"
        },
        {
          "output_type": "display_data",
          "data": {
            "image/png": "[encoded data removed]",
            "text/plain": [
              "<Figure size 432x288 with 1 Axes>"
            ]
          },
          "metadata": {
            "tags": []
          }
        }
      ]
    },
    {
      "cell_type": "markdown",
      "metadata": {
        "id": "T675ghH3HeSx",
        "colab_type": "text"
      },
      "source": [
        "The help() method provides more info about the API of a certain Problem class."
      ]
    },
    {
      "cell_type": "code",
      "metadata": {
        "id": "5ZSeSLFDIR15",
        "colab_type": "code",
        "colab": {}
      },
      "source": [
        "problem.help()"
      ],
      "execution_count": 0,
      "outputs": []
    },
    {
      "cell_type": "markdown",
      "metadata": {
        "id": "ekuWCIQzMKH1",
        "colab_type": "text"
      },
      "source": [
        "# The Model Class\n",
        "The Model class is the abstraction used to implement models/predictors for the problems. CTSB is designed so that the Model and Problem classes can be combined in a modular fashion. Roughly speaking, the goal of CTSB is to be able to test an arbitrary model on an arbitrary problem, at least when it makes sense to do so. For example, below we show how to combine a basic last-value model (a predictor that just outputs the previous observation) for time series on the ARMA problem."
      ]
    },
    {
      "cell_type": "code",
      "metadata": {
        "id": "N0uufGfUSPXp",
        "colab_type": "code",
        "outputId": "876630dc-6463-4d9a-bd6e-8e14219cd900",
        "colab": {
          "base_uri": "https://localhost:8080/",
          "height": 281
        }
      },
      "source": [
        "import ctsb\n",
        "import jax.numpy as np\n",
        "import matplotlib.pyplot as plt\n",
        "\n",
        "T = 100\n",
        "p, q = 3, 3\n",
        "problem = ctsb.problem(\"ARMA-v0\")\n",
        "cur_x = problem.initialize(p, q)\n",
        "model = ctsb.model(\"LastValue\")\n",
        "model.initialize()\n",
        "loss = lambda y_true, y_pred: (y_true - y_pred)**2\n",
        "\n",
        "results = []\n",
        "for i in range(T):\n",
        "    cur_y_pred = model.predict(cur_x)\n",
        "    cur_y_true = problem.step()\n",
        "    cur_loss = loss(cur_y_true, cur_y_pred)\n",
        "    results.append(cur_loss)\n",
        "    model.update(cur_loss)\n",
        "    cur_x = cur_y_true\n",
        "\n",
        "plt.plot(results)\n",
        "plt.title(\"LastValue model on ARMA problem\")\n",
        "plt.show(block=False)\n"
      ],
      "execution_count": 0,
      "outputs": [
        {
          "output_type": "display_data",
          "data": {
            "image/png": "[encoded data removed]",
            "text/plain": [
              "<Figure size 432x288 with 1 Axes>"
            ]
          },
          "metadata": {
            "tags": []
          }
        }
      ]
    },
    {
      "cell_type": "markdown",
      "metadata": {
        "id": "Mi5KeUr1NO-e",
        "colab_type": "text"
      },
      "source": [
        "# The Problem and Model Registry\n",
        "Each of the Problem and Model classes included in CTSB are inserted into a global registry, which is dict from a unique string to the Problem/Model class corresponding to the string. The registry supports versioning, so that multiple versions of a certain Problem/Model can be referenced. For example, the id \"ARMA-v0\" is the registry id for version 0 of the ARMA problem. The previous example shows how to create instances of problem and model via the corresponding registry ids. A comprehensive list of all Problem and Model ids can be printed by printing out the keys of the global registries: problem_registry and model_registry, as demonstrated below."
      ]
    },
    {
      "cell_type": "code",
      "metadata": {
        "id": "2ueoHuu-i1Hl",
        "colab_type": "code",
        "outputId": "f1fe9382-79bd-43f3-f118-432776834548",
        "colab": {
          "base_uri": "https://localhost:8080/",
          "height": 51
        }
      },
      "source": [
        "print(ctsb.problem_registry.keys())\n",
        "print(ctsb.model_registry.keys())"
      ],
      "execution_count": 0,
      "outputs": [
        {
          "output_type": "stream",
          "text": [
            "dict_keys(['Random-v0', 'ARMA-v0', 'LDS-v0', 'RNN-v0', 'LSTM-v0', 'SP500-v0', 'UCIIndoor-v0', 'Crypto-v0'])\n",
            "dict_keys(['LastValue', 'Linear', 'PredictZero', 'KalmanFilter'])\n"
          ],
          "name": "stdout"
        }
      ]
    },
    {
      "cell_type": "markdown",
      "metadata": {
        "id": "IagcCYMFfzdl",
        "colab_type": "text"
      },
      "source": [
        "# The Experiment Class\n",
        "The EXperiment class should be thought of as a sort of engine that allows the automated combination of various models against various problems. The initialize method supports two types of operation: single problem experiments and multi-problem experiments. A single problem experiment is defined when calling initialize by specifying: a loss function, a single Problem identifed by a unique string in the Problem registry, a dict of problem parameters, and a list of Models identified by unique strings in the Model Registry. We demonstrate how to create a single Problem experiment below."
      ]
    },
    {
      "cell_type": "code",
      "metadata": {
        "id": "3FDgDgqKQJIu",
        "colab_type": "code",
        "colab": {}
      },
      "source": [
        "import ctsb\n",
        "from ctsb.problems.time_series import Crypto\n",
        "from ctsb.problems.control.arma import ARMA\n",
        "from ctsb.models.time_series.last_value import LastValue\n",
        "from ctsb.models.time_series.predict_zero import PredictZero\n",
        "from ctsb.utils.experiment import Experiment\n",
        "import jax.numpy as np\n",
        "import matplotlib.pyplot as plt\n",
        "\n",
        "exp = Experiment()\n",
        "MSE = lambda y_true, y_pred: (y_true - y_pred)**2\n",
        "exp.initialize(MSE, problem_id=\"ARMA-v0\", problem_params={'p': 3, 'q':3}, model_id_list=['LastValue', 'PredictZero'])\n",
        "steps = 100\n",
        "exp.run_all_experiments(steps)\n",
        "exp.plot_all_problem_results()\n"
      ],
      "execution_count": 0,
      "outputs": []
    },
    {
      "cell_type": "markdown",
      "metadata": {
        "id": "DTFOmA3YCC-i",
        "colab_type": "text"
      },
      "source": [
        "A multi-problem experiment is defined when calling initialize by specifying: a loss function, and a dict whose keys are problem ids, and whose values are tuples of the form (dict of model params, list of model ids). We demonstrate how to create a multi-problem experiment below."
      ]
    },
    {
      "cell_type": "code",
      "metadata": {
        "id": "kgo8fbq6DXWn",
        "colab_type": "code",
        "colab": {}
      },
      "source": [
        "exp = Experiment()\n",
        "MSE = lambda y_true, y_pred: (y_true - y_pred)**2\n",
        "model_id_list = ['LastValue', 'PredictZero']\n",
        "exp.initialize(MSE, problem_to_param_models={'ARMA-v0' : ({'p':3, 'q':3}, model_id_list), \n",
        "                                              'SP500-v0' : ({}, model_id_list)\n",
        "                                            }\n",
        "              )\n",
        "steps = 100\n",
        "exp.run_all_experiments(steps)\n",
        "exp.plot_all_problem_results()"
      ],
      "execution_count": 0,
      "outputs": []
    },
    {
      "cell_type": "markdown",
      "metadata": {
        "id": "S7EQ8VjPmkJP",
        "colab_type": "text"
      },
      "source": [
        "# Random Seeding\n",
        "Many of the problems/models utilize randomness implemented by jax.random. In order to enforce reproducibility of experiment results, we seed a global random key when ctsb is imported. When jax.random functions are called, we leverage auxiliary functions in ctsb.utils.random to generate new random keys on the fly based on the current global random key. Below, we demonstrate how to reproduce the same experiment twice by calling set_key()."
      ]
    },
    {
      "cell_type": "code",
      "metadata": {
        "id": "-W7CntRLKnzE",
        "colab_type": "code",
        "colab": {}
      },
      "source": [
        "import jax.numpy as np\n",
        "import jax.random as random\n",
        "import ctsb\n",
        "import matplotlib.pyplot as plt\n",
        "from ctsb.problems.control.lds import LDS\n",
        "from ctsb.utils.random import generate_key, set_key\n",
        "\n",
        "T = 100\n",
        "n, m, d = 5, 1, 10\n",
        "problem = ctsb.problem(\"LDS-v0\")\n",
        "\n",
        "set_key(0)\n",
        "problem.initialize(n, m, d)\n",
        "test_output = []\n",
        "for t in range(T):\n",
        "    u = random.normal(generate_key(),shape=(n,))\n",
        "    test_output.append(problem.step(u))\n",
        "\n",
        "set_key(0)\n",
        "problem.initialize(n, m, d)\n",
        "test_output_2 = []\n",
        "for t in range(T):\n",
        "    u = random.normal(generate_key(),shape=(n,))\n",
        "    test_output_2.append(problem.step(u))\n",
        "\n",
        "fig, ax = plt.subplots(nrows=2, ncols=1)\n",
        "ax[0].plot(test_output)\n",
        "ax[1].plot(test_output_2)\n",
        "\n",
        "fig.tight_layout()\n",
        "plt.show()"
      ],
      "execution_count": 0,
      "outputs": []
    }
  ]
}