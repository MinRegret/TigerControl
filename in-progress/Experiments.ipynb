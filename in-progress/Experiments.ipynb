{
 "cells": [
  {
   "cell_type": "markdown",
   "metadata": {},
   "source": [
    "# Comparison of BPC, GPC, and LQR on Linear Dynamical Systems"
   ]
  },
  {
   "cell_type": "code",
   "execution_count": 34,
   "metadata": {},
   "outputs": [],
   "source": [
    "import matplotlib.pyplot as plt\n",
    "import jax\n",
    "import jax.numpy as np\n",
    "import numpy as onp\n",
    "import jax.random as random\n",
    "import tigercontrol\n",
    "from tigercontrol.utils.random import set_key, generate_key\n",
    "from tigercontrol.environments import Environment\n",
    "from tigercontrol.controllers import Controller\n",
    "from jax import grad,jit"
   ]
  },
  {
   "cell_type": "code",
   "execution_count": 35,
   "metadata": {},
   "outputs": [],
   "source": [
    "set_key(0) # make everything deterministic"
   ]
  },
  {
   "cell_type": "code",
   "execution_count": 36,
   "metadata": {},
   "outputs": [],
   "source": [
    "from controllers.bpc import BPC\n",
    "from controllers.gpc import GPC\n",
    "from controllers.lqr import LQR\n",
    "from environments.lds import LDS"
   ]
  },
  {
   "cell_type": "code",
   "execution_count": 37,
   "metadata": {},
   "outputs": [],
   "source": [
    "def get_regret(T, model, x):\n",
    "    loss = onp.zeros(T)\n",
    "    avg_regret = onp.zeros(T)\n",
    "    c_t = 0 # cost of initial function is 0\n",
    "    for i in range(T):\n",
    "        u = model.get_action()\n",
    "        c_t = loss_fn(x, u)\n",
    "        x = problem.step(u)\n",
    "        model.update(c_t, x)\n",
    "        loss[i] = c_t\n",
    "        avg_regret[i] = avg_regret[-1] * i / (i+1) + c_t /(i+1)\n",
    "    return loss, avg_regret"
   ]
  },
  {
   "cell_type": "markdown",
   "metadata": {},
   "source": [
    "# Sanity Check"
   ]
  },
  {
   "cell_type": "markdown",
   "metadata": {},
   "source": [
    "For the LDS system, the matrices A, B are generated randomly. The cost function used is c(x, u) = ||x||2 + ||u||2 . The baseline is designed with the pre-fixed matrix K set to 0. In all figures, we plot the averaged results for a fixed random system determined by A, B, for each setting, over 20 experiment runs."
   ]
  },
  {
   "cell_type": "code",
   "execution_count": 38,
   "metadata": {},
   "outputs": [],
   "source": [
    "noise_magnitude = 0.1\n",
    "noise_distribution = 'normal'"
   ]
  },
  {
   "cell_type": "markdown",
   "metadata": {},
   "source": [
    "(a) d = 1"
   ]
  },
  {
   "cell_type": "code",
   "execution_count": 39,
   "metadata": {},
   "outputs": [],
   "source": [
    "n = 1 # dimension of  the state x \n",
    "m = 1 # control dimension\n",
    "T = 500 # number of timesteps\n",
    "\n",
    "problem = LDS()\n",
    "x = problem.initialize(n, m, noise_distribution = 'normal', noise_magnitude = 0.5)\n",
    "\n",
    "Q = 0.1 * np.identity(n)\n",
    "R = 0.1 * np.identity(m)\n",
    "\n",
    "loss_fn = lambda x, u: x.T @ Q @ x + u.T @ R @ u"
   ]
  },
  {
   "cell_type": "code",
   "execution_count": 40,
   "metadata": {},
   "outputs": [],
   "source": [
    "K = np.zeros((m, n))\n",
    "H = 8\n",
    "delta = H **0.75 / T**0.25\n",
    "\n",
    "bpc = BPC()\n",
    "bpc.initialize(problem.A, problem.B, n, m, H, K, delta, x)\n",
    "\n",
    "BPC_loss, BPC_avg_regret = get_regret(T, bpc, x)"
   ]
  },
  {
   "cell_type": "code",
   "execution_count": 7,
   "metadata": {},
   "outputs": [],
   "source": [
    "K = np.zeros((m, n))\n",
    "H, HH = 8, 16\n",
    "\n",
    "x = problem.initialize(n, m, noise_distribution = 'normal', noise_magnitude = 0.5)\n",
    "gpc = GPC()\n",
    "gpc.initialize(problem.A, problem.B, H, HH, K, x)\n",
    "\n",
    "GPC_loss, GPC_avg_regret = get_regret(T, gpc, x)"
   ]
  },
  {
   "cell_type": "code",
   "execution_count": null,
   "metadata": {},
   "outputs": [],
   "source": [
    "x = problem.initialize(n, m, noise_distribution = 'normal', noise_magnitude = 0.5)\n",
    "lqr = LQR()\n",
    "lqr.initialize(problem.A, problem.B, n, m, x, Q, R)\n",
    "\n",
    "LQR_loss, LQR_avg_regret = get_regret(T, lqr, x)"
   ]
  },
  {
   "cell_type": "code",
   "execution_count": null,
   "metadata": {},
   "outputs": [],
   "source": [
    "plt.plot(BPC_avg_regret, label = \"BPC\")\n",
    "plt.plot(LQR_avg_regret, label = \"LQR\")\n",
    "plt.title(\"BPC vs. LQR on LDS\");\n",
    "plt.legend();"
   ]
  },
  {
   "cell_type": "markdown",
   "metadata": {},
   "source": [
    "(b) d = 10"
   ]
  },
  {
   "cell_type": "code",
   "execution_count": 9,
   "metadata": {},
   "outputs": [],
   "source": [
    "n = 10 # dimension of  the state x \n",
    "m = 10 # control dimension\n",
    "T = 500 # number of timesteps\n",
    "\n",
    "problem = LDS()\n",
    "x = problem.initialize(n, m, noise_distribution = 'normal', noise_magnitude = 0.5)\n",
    "\n",
    "Q = 0.1 * np.identity(n)\n",
    "R = 0.1 * np.identity(m)\n",
    "\n",
    "loss_fn = lambda x, u: x.T @ Q @ x + u.T @ R @ u"
   ]
  },
  {
   "cell_type": "code",
   "execution_count": 10,
   "metadata": {},
   "outputs": [],
   "source": [
    "K = np.zeros((m, n))\n",
    "H = 8\n",
    "delta = H **0.75 / T**0.25\n",
    "\n",
    "bpc = BPC()\n",
    "bpc.initialize(problem.A, problem.B, n, m, H, K, delta, x)\n",
    "\n",
    "BPC_loss, BPC_avg_regret = get_regret(T, bpc, x)"
   ]
  },
  {
   "cell_type": "code",
   "execution_count": 9,
   "metadata": {},
   "outputs": [],
   "source": [
    "K = np.zeros((m, n))\n",
    "H, HH = 8, 16\n",
    "\n",
    "x = problem.initialize(n, m, noise_distribution = 'normal', noise_magnitude = 0.5)\n",
    "gpc = GPC()\n",
    "gpc.initialize(problem.A, problem.B, H, HH, K, x)\n",
    "\n",
    "GPC_loss, GPC_avg_regret = get_regret(T, gpc, x)"
   ]
  },
  {
   "cell_type": "code",
   "execution_count": null,
   "metadata": {},
   "outputs": [],
   "source": [
    "x = problem.initialize(n, m, noise_distribution = 'normal', noise_magnitude = 0.5)\n",
    "lqr = LQR()\n",
    "lqr.initialize(problem.A, problem.B, n, m, x, Q, R)\n",
    "\n",
    "LQR_loss, LQR_avg_regret = get_regret(T, lqr, x)"
   ]
  },
  {
   "cell_type": "code",
   "execution_count": null,
   "metadata": {},
   "outputs": [],
   "source": [
    "plt.plot(BPC_avg_regret, label = \"BPC\")\n",
    "plt.plot(GPC_avg_regret, label = \"GPC\")\n",
    "plt.plot(LQR_avg_regret, label = \"LQR\")\n",
    "plt.title(\"BPC vs. GPC & LQR on LDS\");\n",
    "plt.legend();"
   ]
  },
  {
   "cell_type": "markdown",
   "metadata": {},
   "source": [
    "(c) d = 100"
   ]
  },
  {
   "cell_type": "code",
   "execution_count": 30,
   "metadata": {},
   "outputs": [],
   "source": [
    "n = 100 # dimension of  the state x \n",
    "m = 100 # control dimension\n",
    "T = 500 # number of timesteps\n",
    "\n",
    "problem = LDS()\n",
    "x = problem.initialize(n, m, noise_distribution = 'normal', noise_magnitude = 0.5)\n",
    "\n",
    "Q = 0.1 * np.identity(n)\n",
    "R = 0.1 * np.identity(m)\n",
    "\n",
    "loss_fn = lambda x, u: x.T @ Q @ x + u.T @ R @ u"
   ]
  },
  {
   "cell_type": "code",
   "execution_count": 31,
   "metadata": {},
   "outputs": [],
   "source": [
    "K = np.zeros((m, n))\n",
    "H = 8\n",
    "delta = H **0.75 / T**0.25\n",
    "\n",
    "bpc = BPC()\n",
    "bpc.initialize(problem.A, problem.B, n, m, H, K, delta, x)\n",
    "\n",
    "BPC_loss, BPC_avg_regret = get_regret(T, bpc, x)"
   ]
  },
  {
   "cell_type": "code",
   "execution_count": 12,
   "metadata": {},
   "outputs": [],
   "source": [
    "K = np.zeros((m, n))\n",
    "H, HH = 8, 16\n",
    "\n",
    "x = problem.initialize(n, m, noise_distribution = 'normal', noise_magnitude = 0.5)\n",
    "gpc = GPC()\n",
    "gpc.initialize(problem.A, problem.B, H, HH, K, x)\n",
    "\n",
    "GPC_loss, GPC_avg_regret = get_regret(T, gpc, x)"
   ]
  },
  {
   "cell_type": "code",
   "execution_count": null,
   "metadata": {},
   "outputs": [],
   "source": [
    "x = problem.initialize(n, m, noise_distribution = 'normal', noise_magnitude = 0.5)\n",
    "lqr = LQR()\n",
    "lqr.initialize(problem.A, problem.B, n, m, x, Q, R)\n",
    "\n",
    "LQR_loss, LQR_avg_regret = get_regret(T, lqr, x)"
   ]
  },
  {
   "cell_type": "code",
   "execution_count": null,
   "metadata": {},
   "outputs": [],
   "source": [
    "plt.plot(BPC_avg_regret, label = \"BPC\")\n",
    "plt.plot(GPC_avg_regret, label = \"GPC\")\n",
    "plt.plot(LQR_avg_regret, label = \"LQR\")\n",
    "plt.title(\"BPC vs. GPC & LQR on LDS\");\n",
    "plt.legend();"
   ]
  },
  {
   "cell_type": "markdown",
   "metadata": {},
   "source": [
    "# Correlated noise experiment"
   ]
  },
  {
   "cell_type": "markdown",
   "metadata": {},
   "source": [
    "## Gaussian Random Walk"
   ]
  },
  {
   "cell_type": "markdown",
   "metadata": {},
   "source": [
    "In the first setting, the noise terms are $w_{t+1} ∼ N(w_t,0.3^2)$, and are then clipped to the range [−1, 1]."
   ]
  },
  {
   "cell_type": "code",
   "execution_count": 51,
   "metadata": {},
   "outputs": [],
   "source": [
    "noise_magnitude = 0.3"
   ]
  },
  {
   "cell_type": "code",
   "execution_count": 58,
   "metadata": {},
   "outputs": [],
   "source": [
    "def get_next_w(n, x, u, w, t):\n",
    "    next_w = w + noise_magnitude * random.normal(generate_key())\n",
    "    next_w = min(1, next_w)\n",
    "    next_w = max(-1, next_w)\n",
    "    return next_w"
   ]
  },
  {
   "cell_type": "code",
   "execution_count": 59,
   "metadata": {},
   "outputs": [],
   "source": [
    "## PROBLEM ##\n",
    "n = 1 # dimension of  the state x \n",
    "m = 1 # control dimension\n",
    "\n",
    "problem = LDS()\n",
    "x = problem.initialize(n, m, noise_distribution = get_next_w)\n",
    "\n",
    "Q = 0.1 * np.identity(n)\n",
    "R = 0.1 * np.identity(m)\n",
    "\n",
    "loss_fn = lambda x, u: x.T @ Q @ x + u.T @ R @ u"
   ]
  },
  {
   "cell_type": "code",
   "execution_count": 60,
   "metadata": {},
   "outputs": [],
   "source": [
    "## BPC ##\n",
    "K = np.zeros((m, n))\n",
    "H = 8\n",
    "delta = H **0.75 / T**0.25\n",
    "\n",
    "bpc = BPC()\n",
    "bpc.initialize(problem.A, problem.B, n, m, H, K, delta, x)\n",
    "\n",
    "BPC_loss, BPC_avg_regret = get_regret(T, bpc, x)"
   ]
  },
  {
   "cell_type": "code",
   "execution_count": 50,
   "metadata": {},
   "outputs": [],
   "source": [
    "onp.savetxt('bpc_regret_corr.csv', BPC_avg_regret, delimiter=',')"
   ]
  },
  {
   "cell_type": "code",
   "execution_count": 14,
   "metadata": {},
   "outputs": [],
   "source": [
    "K = np.zeros((m, n))\n",
    "H, HH = 8, 16\n",
    "\n",
    "x = problem.initialize(n, m, noise_distribution = 'normal', noise_magnitude = 0.5)\n",
    "gpc = GPC()\n",
    "gpc.initialize(problem.A, problem.B, H, HH, K, x)\n",
    "\n",
    "GPC_loss, GPC_avg_regret = get_regret(T, gpc, x)"
   ]
  },
  {
   "cell_type": "code",
   "execution_count": null,
   "metadata": {},
   "outputs": [],
   "source": [
    "## LQR ##\n",
    "x = problem.initialize(n, m, noise_distribution = 'normal', noise_magnitude = 0.5)\n",
    "lqr = LQR()\n",
    "lqr.initialize(problem.A, problem.B, n, m, x, Q, R)\n",
    "\n",
    "LQR_loss, LQR_avg_regret = get_regret(T, lqr, x)"
   ]
  },
  {
   "cell_type": "code",
   "execution_count": null,
   "metadata": {},
   "outputs": [],
   "source": [
    "plt.plot(BPC_avg_regret, label = \"BPC\")\n",
    "plt.plot(GPC_avg_regret, label = \"GPC\")\n",
    "plt.plot(LQR_avg_regret, label = \"LQR\")\n",
    "plt.title(\"BPC vs. GPC & LQR on LDS\");\n",
    "plt.legend();"
   ]
  },
  {
   "cell_type": "markdown",
   "metadata": {},
   "source": [
    "## Sine Noise"
   ]
  },
  {
   "cell_type": "code",
   "execution_count": 16,
   "metadata": {},
   "outputs": [],
   "source": [
    "noise_magnitude = 0.3"
   ]
  },
  {
   "cell_type": "code",
   "execution_count": 19,
   "metadata": {},
   "outputs": [],
   "source": [
    "def get_next_w(n, x, u, w, t):\n",
    "    return noise_magnitude * np.sin(t)"
   ]
  },
  {
   "cell_type": "code",
   "execution_count": 20,
   "metadata": {},
   "outputs": [],
   "source": [
    "## PROBLEM ##\n",
    "n = 1 # dimension of  the state x \n",
    "m = 1 # control dimension\n",
    "\n",
    "problem = LDS()\n",
    "x = problem.initialize(n, m, noise_distribution = get_next_w)\n",
    "\n",
    "Q = 0.1 * np.identity(n)\n",
    "R = 0.1 * np.identity(m)\n",
    "\n",
    "loss_fn = lambda x, u: x.T @ Q @ x + u.T @ R @ u"
   ]
  },
  {
   "cell_type": "code",
   "execution_count": 21,
   "metadata": {},
   "outputs": [],
   "source": [
    "## BPC ##\n",
    "K = np.zeros((m, n))\n",
    "H = 8\n",
    "delta = H **0.75 / T**0.25\n",
    "\n",
    "bpc = BPC()\n",
    "bpc.initialize(problem.A, problem.B, n, m, H, K, delta, x)\n",
    "\n",
    "BPC_loss, BPC_avg_regret = get_regret(T, bpc, x)"
   ]
  },
  {
   "cell_type": "code",
   "execution_count": null,
   "metadata": {},
   "outputs": [],
   "source": [
    "K = np.zeros((m, n))\n",
    "H, HH = 8, 16\n",
    "\n",
    "x = problem.initialize(n, m, noise_distribution = 'normal', noise_magnitude = 0.5)\n",
    "gpc = GPC()\n",
    "gpc.initialize(problem.A, problem.B, H, HH, K, x)\n",
    "\n",
    "GPC_loss, GPC_avg_regret = get_regret(T, gpc, x)"
   ]
  },
  {
   "cell_type": "code",
   "execution_count": null,
   "metadata": {},
   "outputs": [],
   "source": [
    "## LQR ##\n",
    "x = problem.initialize(n, m, noise_distribution = 'normal', noise_magnitude = 0.5)\n",
    "lqr = LQR()\n",
    "lqr.initialize(problem.A, problem.B, n, m, x, Q, R)\n",
    "\n",
    "LQR_loss, LQR_avg_regret = get_regret(T, lqr, x)"
   ]
  },
  {
   "cell_type": "code",
   "execution_count": null,
   "metadata": {},
   "outputs": [],
   "source": [
    "plt.plot(BPC_avg_regret, label = \"BPC\")\n",
    "plt.plot(GPC_avg_regret, label = \"GPC\")\n",
    "plt.plot(LQR_avg_regret, label = \"LQR\")\n",
    "plt.title(\"BPC vs. GPC & LQR on LDS\");\n",
    "plt.legend();"
   ]
  }
 ],
 "metadata": {
  "kernelspec": {
   "display_name": "Python 3",
   "language": "python",
   "name": "python3"
  },
  "language_info": {
   "codemirror_mode": {
    "name": "ipython",
    "version": 3
   },
   "file_extension": ".py",
   "mimetype": "text/x-python",
   "name": "python",
   "nbconvert_exporter": "python",
   "pygments_lexer": "ipython3",
   "version": "3.6.5"
  }
 },
 "nbformat": 4,
 "nbformat_minor": 2
}
