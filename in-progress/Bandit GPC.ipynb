{
 "cells": [
  {
   "cell_type": "code",
   "execution_count": 1,
   "metadata": {},
   "outputs": [
    {
     "name": "stderr",
     "output_type": "stream",
     "text": [
      "/Users/johnhallman/mlcourse/mlenv/lib/python3.6/site-packages/jax/lib/xla_bridge.py:120: UserWarning: No GPU/TPU found, falling back to CPU.\n",
      "  warnings.warn('No GPU/TPU found, falling back to CPU.')\n"
     ]
    }
   ],
   "source": [
    "import matplotlib.pyplot as plt\n",
    "import jax\n",
    "import jax.numpy as np\n",
    "import numpy as onp\n",
    "import jax.random as random\n",
    "import tigercontrol\n",
    "from tigercontrol.utils.random import set_key, generate_key\n",
    "from tigercontrol.environments import Environment\n",
    "from tigercontrol.controllers import Controller\n",
    "from jax import grad,jit"
   ]
  },
  {
   "cell_type": "code",
   "execution_count": 2,
   "metadata": {},
   "outputs": [],
   "source": [
    "set_key(0) # make everything deterministic"
   ]
  },
  {
   "cell_type": "code",
   "execution_count": 3,
   "metadata": {},
   "outputs": [],
   "source": [
    "\"\"\"\n",
    "Linear dynamical system\n",
    "\"\"\"\n",
    "\n",
    "\n",
    "class LDS(Environment):\n",
    "    \"\"\"\n",
    "    Description: The base, master LDS class that all other LDS subenvironments inherit. \n",
    "        Simulates a linear dynamical system with a lot of flexibility and variety in\n",
    "        terms of hyperparameter choices.\n",
    "    \"\"\"\n",
    "\n",
    "    def __init__(self):\n",
    "        self.initialized = False\n",
    "\n",
    "    def initialize(self, n, m, noise_distribution=None, noise_magnitude=1.0, A = None, B = None, initial_state = None):\n",
    "        \"\"\"\n",
    "        Description: Randomly initialize the hidden dynamics of the system.\n",
    "        Args:\n",
    "            n (int): State dimension.\n",
    "            m (int): control dimension.\n",
    "            noise_distribution (None, string, func): if None then no noise. Valid strings include ['normal', 'uniform']. \n",
    "                Valid noise functions must map inputs n (x dim), x (state), u (action), w (previous noise), and t (current time)\n",
    "                to either a scalar or an n-dimensional vector of real values.\n",
    "            noise magnitude (float): magnitude of noise\n",
    "            params (dict): specify A, B\n",
    "            initial_state (None, vector): initial x. If None then randomly initialized\n",
    "        Returns:\n",
    "            The first value in the time-series\n",
    "        \"\"\"\n",
    "        self.initialized = True\n",
    "        self.T = 0\n",
    "        self.n, self.m = n, m\n",
    "        self.noise_magnitude = noise_magnitude\n",
    "\n",
    "        # random normal helper function\n",
    "        gaussian = lambda dims: random.normal(generate_key(), shape=dims)\n",
    "        \n",
    "        self.A = gaussian((n, n))\n",
    "        self.B = gaussian((n, m))\n",
    "        \n",
    "        self.A /= np.linalg.norm(self.A)\n",
    "        self.B /= np.linalg.norm(self.B)\n",
    "\n",
    "        # determine the noise function to use, allowing for conditioning on x, u, previous noise, and current t\n",
    "        if (noise_distribution == None):           # case no noise\n",
    "            self.noise = lambda n, x, u, w, t: 0.0\n",
    "        elif (noise_distribution == 'normal'):   # case normal distribution\n",
    "            self.noise = lambda n, x, u, w, t: gaussian((n,))\n",
    "        elif (noise_distribution == 'uniform'): # case uniform distribution\n",
    "            self.noise = lambda n, x, u, w, t: random.uniform(generate_key(), shape=(n,), minval=-1, maxval=1)\n",
    "        else:                                      # case custom function\n",
    "            assert callable(noise_distribution), \"noise_distribution not valid input\" # assert input is callable\n",
    "            from inspect import getargspec\n",
    "            arg_sub = getargspec(noise_distribution).args # retrieve all parameters taken by provided function\n",
    "            for arg in arg_sub:\n",
    "                assert arg in ['n', 'x', 'u', 'w', 't'], \"noise_distribution takes invalid input\"\n",
    "            def noise(n, x, u, w, t):\n",
    "                noise_args = {'n': n, 'x': x, 'u': u, 'w': w, 't': t}\n",
    "                arg_dict = {k:v for k,v in noise_args.items() if k in arg_sub}\n",
    "                return noise_distribution(**arg_dict)\n",
    "            self.noise = noise\n",
    "\n",
    "        # initial state\n",
    "        #self.x = np.zeros(n) if initial_state is None else initial_state\n",
    "        self.x = gaussian((n,)) if initial_state is None else initial_state\n",
    "        \n",
    "        def _step(x, u, eps):\n",
    "            eps_x = eps\n",
    "            next_x = np.dot(self.A, x) + np.dot(self.B, u) + self.noise_magnitude * eps_x\n",
    "            return (next_x, next_x)\n",
    "        self._step = jax.jit(_step)\n",
    "\n",
    "        self.prev_noise = np.zeros(n)\n",
    "        return self.x # return true current state\n",
    "\n",
    "\n",
    "    def step(self, u):\n",
    "        \"\"\"\n",
    "        Description: Moves the system dynamics one time-step forward.\n",
    "        Args:\n",
    "            u (numpy.ndarray): control input, an n-dimensional real-valued vector.\n",
    "        Returns:\n",
    "            A new observation from the LDS.\n",
    "        \"\"\"\n",
    "        assert self.initialized\n",
    "        self.T += 1\n",
    "        self.prev_noise = self.noise(self.n, self.x, u, self.prev_noise, self.T)\n",
    "        self.x, y = self._step(self.x, u, self.prev_noise)\n",
    "        return y # even in fully observable case, y = self.x"
   ]
  },
  {
   "cell_type": "code",
   "execution_count": 4,
   "metadata": {},
   "outputs": [],
   "source": [
    "n = 3 # dimension of  the state x \n",
    "m = 5 # control dimension\n",
    "\n",
    "problem = LDS()\n",
    "x = problem.initialize(n, m, noise_distribution = 'normal', noise_magnitude = 0.5)\n",
    "\n",
    "Q = 0.1 * np.identity(n)\n",
    "R = 0.1 * np.identity(m)\n",
    "\n",
    "loss_fn = lambda x, u: x.T @ Q @ x + u.T @ R @ u"
   ]
  },
  {
   "cell_type": "code",
   "execution_count": 5,
   "metadata": {},
   "outputs": [],
   "source": [
    "class BanditGPC(Controller):\n",
    "    \"\"\"\n",
    "    Description: Computes optimal set of actions using the Linear Quadratic Regulator\n",
    "    algorithm.\n",
    "    \"\"\"\n",
    "\n",
    "    def __init__(self):\n",
    "        self.initialized = False\n",
    "\n",
    "    def initialize(self, A, B, n, m, H, K, delta, x, initial_lr=0.1):\n",
    "        \"\"\"\n",
    "        Description: Initialize the dynamics of the model\n",
    "        Args:\n",
    "            A,B (float/numpy.ndarray): system dynamics\n",
    "            n (float/numpy.ndarray): dimension of the state\n",
    "            m (float/numpy.ndarray): dimension of the controls\n",
    "            H (postive int): history of the controller \n",
    "            K (float/numpy.ndarray): optimal controller \n",
    "            delta (float): gradient estimator parameter\n",
    "            x (numpy.ndarray): initial state\n",
    "            initial_lr (float): initial learning rate\n",
    "        \"\"\"\n",
    "        self.initialized = True\n",
    "        \n",
    "        def _generate_uniform(shape, norm=1.00):\n",
    "            v = random.normal(generate_key(), shape=shape)\n",
    "            v = norm * v / np.linalg.norm(v)\n",
    "            return v\n",
    "        self._generate_uniform = _generate_uniform\n",
    "        self.eps = self._generate_uniform((H, m, n))\n",
    "        \n",
    "        self.K = np.zeros ((m,n)) ## compute it...\n",
    "\n",
    "        self.x = x        \n",
    "        self.u = np.zeros(m)\n",
    "        \n",
    "        self.n = n   ## dimension of  the state x \n",
    "        self.m = m   ## dimension of the control u\n",
    "        self.A = A\n",
    "        self.B = B\n",
    "        self.H = H   ## how many control matrices\n",
    "    \n",
    "        self.delta = delta\n",
    "\n",
    "        ## internal parmeters to the class \n",
    "        self.T = 1 ## keep track of iterations, for the learning rate\n",
    "        self.learning_rate = initial_lr\n",
    "        self.M = self._generate_uniform((H, m, n), norm = 1-delta) ## CANNOT BE SET TO ZERO\n",
    "        self.w_past = np.zeros((H,n)) ## this are the previous perturbations, from most recent [0] to latest [HH-1]\n",
    "        \n",
    "    def get_action(self):\n",
    "        \n",
    "        M_tilde = self.M + self.delta * self.eps \n",
    "        \n",
    "        #choose action\n",
    "        self.u = -K @ self.x\n",
    "        for i in range(self.H):\n",
    "            self.u += np.dot(M_tilde[i] , self.w_past[i])\n",
    "            \n",
    "        return self.u\n",
    "\n",
    "    def update(self, c_t, x_new):\n",
    "        \"\"\"\n",
    "        Description: Updates internal parameters and then returns the estimated optimal action (only one)\n",
    "        Args:\n",
    "            None\n",
    "        Returns:\n",
    "            Estimated optimal action\n",
    "        \"\"\"\n",
    "\n",
    "        self.T += 1\n",
    "        #self.learning_rate = 1 / self.T**0.75 # eta_t = O(t^(-3/4)) # bug?\n",
    "        \n",
    "        #get new noise\n",
    "        w_new = x_new - np.dot(self.A , self.x)  - np.dot(self.B , self.u)\n",
    "        \n",
    "        #update past noises\n",
    "        self.w_past = np.roll(self.w_past, self.n)\n",
    "        self.w_past = jax.ops.index_update(self.w_past , 0, w_new)\n",
    "            \n",
    "        #set current state\n",
    "        self.x = x_new\n",
    "            \n",
    "        g_t = (self.m * self.n * self.H / self.delta) * c_t * np.sum(self.eps, axis = 0)\n",
    "        lr = self.learning_rate / self.T**0.75 # eta_t = O(t^(-3/4))\n",
    "        self.M = (self.M - lr * g_t)\n",
    "        self.M *= (1-self.delta)/np.linalg.norm(self.M)\n",
    "        \n",
    "        return self.u"
   ]
  },
  {
   "cell_type": "code",
   "execution_count": 6,
   "metadata": {},
   "outputs": [],
   "source": [
    "K = np.zeros((m, n))\n",
    "\n",
    "T = 1000\n",
    "H = 8\n",
    "delta = H **0.75 / T**0.25\n",
    "\n",
    "model = BanditGPC()\n",
    "model.initialize(problem.A, problem.B, n, m, H, K, delta, x)"
   ]
  },
  {
   "cell_type": "code",
   "execution_count": 7,
   "metadata": {},
   "outputs": [],
   "source": [
    "BPC_results = onp.zeros(T)\n",
    "BPC_regret = onp.zeros(T)\n",
    "c_t = 0 # cost of initial function is 0\n",
    "for i in range(T):\n",
    "    u = model.get_action()\n",
    "    c_t = loss_fn(x, u)\n",
    "    x = problem.step(u)\n",
    "    model.update(c_t, x)\n",
    "    BPC_results[i] = c_t\n",
    "    BPC_regret[i] = BPC_regret[-1] * i / (i+1) + c_t /(i+1)"
   ]
  },
  {
   "cell_type": "code",
   "execution_count": 8,
   "metadata": {},
   "outputs": [
    {
     "name": "stdout",
     "output_type": "stream",
     "text": [
      "start:  0.10217835 end: 0.00016434108\n"
     ]
    }
   ],
   "source": [
    "print(\"start: \", np.mean(np.array(BPC_regret[:10])), \"end:\", np.mean(np.array((BPC_regret[-10:]))))"
   ]
  },
  {
   "cell_type": "code",
   "execution_count": 9,
   "metadata": {},
   "outputs": [
    {
     "data": {
      "text/plain": [
       "[<matplotlib.lines.Line2D at 0x136375748>]"
      ]
     },
     "execution_count": 9,
     "metadata": {},
     "output_type": "execute_result"
    },
    {
     "data": {
      "image/png": "[encoded data removed]",
      "text/plain": [
       "<Figure size 432x288 with 1 Axes>"
      ]
     },
     "metadata": {
      "needs_background": "light"
     },
     "output_type": "display_data"
    }
   ],
   "source": [
    "plt.plot(BPC_results[0:3])"
   ]
  },
  {
   "cell_type": "code",
   "execution_count": 10,
   "metadata": {},
   "outputs": [
    {
     "ename": "NameError",
     "evalue": "name 'd' is not defined",
     "output_type": "error",
     "traceback": [
      "\u001b[0;31m---------------------------------------------------------------------------\u001b[0m",
      "\u001b[0;31mNameError\u001b[0m                                 Traceback (most recent call last)",
      "\u001b[0;32m<ipython-input-10-08404fe7b8de>\u001b[0m in \u001b[0;36m<module>\u001b[0;34m\u001b[0m\n\u001b[0;32m----> 1\u001b[0;31m \u001b[0mx\u001b[0m \u001b[0;34m=\u001b[0m \u001b[0mproblem\u001b[0m\u001b[0;34m.\u001b[0m\u001b[0minitialize\u001b[0m\u001b[0;34m(\u001b[0m\u001b[0mn\u001b[0m\u001b[0;34m,\u001b[0m \u001b[0mm\u001b[0m\u001b[0;34m,\u001b[0m \u001b[0md\u001b[0m\u001b[0;34m,\u001b[0m \u001b[0mnoise\u001b[0m \u001b[0;34m=\u001b[0m \u001b[0;36m0.2\u001b[0m\u001b[0;34m)\u001b[0m\u001b[0;34m\u001b[0m\u001b[0m\n\u001b[0m\u001b[1;32m      2\u001b[0m \u001b[0;34m\u001b[0m\u001b[0m\n\u001b[1;32m      3\u001b[0m \u001b[0mX\u001b[0m \u001b[0;34m=\u001b[0m \u001b[0mscipy\u001b[0m\u001b[0;34m.\u001b[0m\u001b[0mlinalg\u001b[0m\u001b[0;34m.\u001b[0m\u001b[0msolve_discrete_are\u001b[0m\u001b[0;34m(\u001b[0m\u001b[0mproblem\u001b[0m\u001b[0;34m.\u001b[0m\u001b[0mA\u001b[0m\u001b[0;34m,\u001b[0m \u001b[0mproblem\u001b[0m\u001b[0;34m.\u001b[0m\u001b[0mB\u001b[0m\u001b[0;34m,\u001b[0m \u001b[0mQ\u001b[0m\u001b[0;34m,\u001b[0m \u001b[0mR\u001b[0m\u001b[0;34m)\u001b[0m\u001b[0;34m\u001b[0m\u001b[0m\n\u001b[1;32m      4\u001b[0m \u001b[0mK\u001b[0m \u001b[0;34m=\u001b[0m \u001b[0mnp\u001b[0m\u001b[0;34m.\u001b[0m\u001b[0mlinalg\u001b[0m\u001b[0;34m.\u001b[0m\u001b[0minv\u001b[0m\u001b[0;34m(\u001b[0m\u001b[0mB\u001b[0m\u001b[0;34m.\u001b[0m\u001b[0mT\u001b[0m \u001b[0;34m@\u001b[0m \u001b[0mX\u001b[0m \u001b[0;34m@\u001b[0m \u001b[0mB\u001b[0m \u001b[0;34m+\u001b[0m \u001b[0mR\u001b[0m\u001b[0;34m)\u001b[0m \u001b[0;34m@\u001b[0m \u001b[0;34m(\u001b[0m\u001b[0mB\u001b[0m\u001b[0;34m.\u001b[0m\u001b[0mT\u001b[0m \u001b[0;34m@\u001b[0m \u001b[0mX\u001b[0m \u001b[0;34m@\u001b[0m \u001b[0mA\u001b[0m\u001b[0;34m)\u001b[0m\u001b[0;34m\u001b[0m\u001b[0m\n\u001b[1;32m      5\u001b[0m \u001b[0;34m\u001b[0m\u001b[0m\n",
      "\u001b[0;31mNameError\u001b[0m: name 'd' is not defined"
     ]
    }
   ],
   "source": [
    "x = problem.initialize(n, m, d, noise = 0.2)\n",
    "\n",
    "X = scipy.linalg.solve_discrete_are(problem.A, problem.B, Q, R)\n",
    "K = np.linalg.inv(B.T @ X @ B + R) @ (B.T @ X @ A)\n",
    "\n",
    "LQR_results = []\n",
    "for i in range(T):\n",
    "    u = -K @ x\n",
    "    x = problem.step(u)\n",
    "    LQR_results.append(x)"
   ]
  },
  {
   "cell_type": "code",
   "execution_count": null,
   "metadata": {},
   "outputs": [],
   "source": [
    "plt.plot([np.linalg.norm(i) for i in GPC_results], label = \"GPC\")\n",
    "plt.plot([np.linalg.norm(i) for i in LQR_results], label = \"LQR\")\n",
    "plt.title(\"GPC vs. LQR on LDS\");\n",
    "plt.legend();"
   ]
  },
  {
   "cell_type": "markdown",
   "metadata": {},
   "source": [
    "## Using LQR first to get good initial K estimate"
   ]
  },
  {
   "cell_type": "code",
   "execution_count": null,
   "metadata": {},
   "outputs": [],
   "source": [
    "model = GPC()\n",
    "model.initialize(problem.A, problem.B, x, n, m, 3, 30, K)"
   ]
  },
  {
   "cell_type": "code",
   "execution_count": null,
   "metadata": {},
   "outputs": [],
   "source": []
  }
 ],
 "metadata": {
  "kernelspec": {
   "display_name": "Python 3",
   "language": "python",
   "name": "python3"
  },
  "language_info": {
   "codemirror_mode": {
    "name": "ipython",
    "version": 3
   },
   "file_extension": ".py",
   "mimetype": "text/x-python",
   "name": "python",
   "nbconvert_exporter": "python",
   "pygments_lexer": "ipython3",
   "version": "3.6.4"
  }
 },
 "nbformat": 4,
 "nbformat_minor": 2
}
