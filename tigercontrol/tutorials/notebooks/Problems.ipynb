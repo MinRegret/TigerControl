{
  "nbformat": 4,
  "nbformat_minor": 0,
  "metadata": {
    "colab": {
      "name": "Problems.ipynb",
      "version": "0.3.2",
      "provenance": [],
      "collapsed_sections": [],
      "include_colab_link": true
    },
    "kernelspec": {
      "name": "python3",
      "display_name": "Python 3"
    }
  },
  "cells": [
    {
      "cell_type": "markdown",
      "metadata": {
        "id": "view-in-github",
        "colab_type": "text"
      },
      "source": [
        "<a href=\"https://colab.research.google.com/github/johnhallman/tigercontrol/blob/tutorials/tutorials/notebooks/Problems.ipynb\" target=\"_parent\"><img src=\"https://colab.research.google.com/assets/colab-badge.svg\" alt=\"Open In Colab\"/></a>"
      ]
    },
    {
      "cell_type": "markdown",
      "metadata": {
        "id": "xwudQ1tMQa63",
        "colab_type": "text"
      },
      "source": [
        "# Problems: Load Different Tasks"
      ]
    },
    {
      "cell_type": "code",
      "metadata": {
        "id": "qxj4PlAmQNvt",
        "colab_type": "code",
        "colab": {}
      },
      "source": [
        "!git clone https://github.com/johnhallman/tigercontrol.git\n",
        "!pip install -e tigercontrol[all]"
      ],
      "execution_count": 0,
      "outputs": []
    },
    {
      "cell_type": "markdown",
      "metadata": {
        "id": "i2b66Y_hQxyp",
        "colab_type": "text"
      },
      "source": [
        "# Time Series Problems\n",
        "TigerControl comes pre-loaded with several classical problems (both simulated and real world data) such as ARMA time series or SP500 index data. Below we demonstrate how to initialize a problem and step through UCI weather data. The initialize() method returns the initial observation. We can also query the hidden state of the system."
      ]
    },
    {
      "cell_type": "code",
      "metadata": {
        "id": "yiQ4gAOEQadk",
        "colab_type": "code",
        "colab": {}
      },
      "source": [
        "# test the UCI Indoor problem class\n",
        "\n",
        "import tigercontrol\n",
        "import jax.numpy as np\n",
        "import matplotlib.pyplot as plt\n",
        "\n",
        "\n",
        "def test_uci_indoor(steps=1000, show_plot=False, verbose=False):\n",
        "    T = steps\n",
        "    problem = tigercontrol.problem(\"UCIIndoor-v0\")\n",
        "    obs = problem.initialize()\n",
        "\n",
        "    print(\"initial observation:\")\n",
        "    print(obs)\n",
        "    \n",
        "    test_output = []\n",
        "    for t in range(T):\n",
        "        test_output.append(problem.step()[1])\n",
        "\n",
        "    if verbose:\n",
        "        print(\"hidden info:\")\n",
        "        print(problem.hidden())\n",
        "    if show_plot:\n",
        "        plt.plot(test_output)\n",
        "        plt.title(\"UCI Indoor\")\n",
        "        plt.show(block=False)\n",
        "        plt.pause(5)\n",
        "        plt.close()\n",
        "    return\n",
        "\n",
        "\n",
        "test_uci_indoor(show_plot=True, verbose=True)"
      ],
      "execution_count": 0,
      "outputs": []
    },
    {
      "cell_type": "markdown",
      "metadata": {
        "id": "wFXuPii5T6O6",
        "colab_type": "text"
      },
      "source": [
        "# `Control Problems\n",
        "A control problem is a task that allows the user to input some control at each step. Below we demonstrate a problem where we want to control the output of a randomly initialized LSTM.\n"
      ]
    },
    {
      "cell_type": "code",
      "metadata": {
        "id": "ZcAPCfMxT5lH",
        "colab_type": "code",
        "colab": {
          "base_uri": "https://localhost:8080/",
          "height": 383
        },
        "outputId": "f3bae186-4bd9-459f-a926-88b63cd1a509"
      },
      "source": [
        "# test the LSTM problem class\n",
        "\n",
        "import tigercontrol\n",
        "from tigercontrol.utils.random import generate_key\n",
        "import jax.numpy as np\n",
        "import jax.random as random\n",
        "import matplotlib.pyplot as plt\n",
        "\n",
        "\n",
        "def test_lstm(steps=1000, show_plot=False, verbose=False):\n",
        "    T = steps\n",
        "    n, m, h = 5, 3, 10\n",
        "    problem = tigercontrol.problem(\"LSTM-Control-v0\")\n",
        "    problem.initialize(n, m, h)\n",
        "    assert problem.T == 0\n",
        "\n",
        "    test_output = []\n",
        "    for t in range(T):\n",
        "        u = random.normal(generate_key(), shape=(n,))\n",
        "        test_output.append(problem.step(u))\n",
        "\n",
        "    info = problem.hidden()\n",
        "    if verbose:\n",
        "        print(\"hidden info:\")\n",
        "        print(info)\n",
        "        \n",
        "    assert problem.T == T\n",
        "    if show_plot:\n",
        "        plt.plot(test_output)\n",
        "        plt.title(\"lstm\")\n",
        "        plt.show(block=False)\n",
        "        plt.pause(1)\n",
        "        plt.close()\n",
        "    return\n",
        "\n",
        "\n",
        "test_lstm(show_plot=True, verbose=True)"
      ],
      "execution_count": 12,
      "outputs": [
        {
          "output_type": "stream",
          "text": [
            "hidden info:\n",
            "(DeviceArray([-0.18795541,  0.15924241,  0.08344398,  0.04951212,\n",
            "             -0.05402511,  0.02749045, -0.07220329,  0.01819442,\n",
            "             -0.10671604, -0.00414303], dtype=float32), DeviceArray([-0.42867559,  0.31283247,  0.23173928,  0.19851877,\n",
            "             -0.23151629,  0.0593244 , -0.11429769,  0.05382787,\n",
            "             -0.36224526, -0.00592524], dtype=float32))\n"
          ],
          "name": "stdout"
        },
        {
          "output_type": "display_data",
          "data": {
            "image/png": "[encoded data removed]",
            "text/plain": [
              "<Figure size 432x288 with 1 Axes>"
            ]
          },
          "metadata": {
            "tags": []
          }
        }
      ]
    },
    {
      "cell_type": "markdown",
      "metadata": {
        "id": "lHKnHCCBb2JJ",
        "colab_type": "text"
      },
      "source": [
        "## PyBullet Control Problem\n",
        "TigerControl supports several physics tasks from the pybullet package. The PyBulletProblem class inherits from a superclass called Simulator, and the PyBulletProblem class has a method get_simulator which returns an instance of a Simulator for the given environment. The Simulator class supports saving/loading states, getters for the observation space and action space, GUI rendering of the physics simulation, and forking to spawn a new instance of the Simulator. Below, we demonstrate how to run the KukaDiverse environment (robot arm to grasp objects) with a simple policy. "
      ]
    },
    {
      "cell_type": "code",
      "metadata": {
        "id": "YJl5wdpDZ8Ja",
        "colab_type": "code",
        "colab": {}
      },
      "source": [
        "\"\"\"Runs a random policy for the random object KukaDiverseObjectEnv.\n",
        "\"\"\"\n",
        "\n",
        "import tigercontrol\n",
        "import numpy as np\n",
        "import time\n",
        "from gym import spaces\n",
        "\n",
        "\n",
        "class ContinuousDownwardBiasPolicy(object):\n",
        "    \"\"\"Policy which takes continuous actions, and is biased to move down.\n",
        "    \"\"\"\n",
        "\n",
        "    def __init__(self, height_hack_prob=0.9):\n",
        "        \"\"\"Initializes the DownwardBiasPolicy.\n",
        "\n",
        "        Args:\n",
        "                height_hack_prob: The probability of moving down at every move.\n",
        "        \"\"\"\n",
        "        self._height_hack_prob = height_hack_prob\n",
        "        self._action_space = spaces.Box(low=-1, high=1, shape=(5,))\n",
        "\n",
        "    def sample_action(self, obs, explore_prob):\n",
        "        \"\"\"Implements height hack and grasping threshold hack.\n",
        "        \"\"\"\n",
        "        dx, dy, dz, da, close = self._action_space.sample()\n",
        "        if np.random.random() < self._height_hack_prob:\n",
        "            dz = -1\n",
        "        return [dx, dy, dz, da, 0.5]\n",
        "\n",
        "\n",
        "def test_kuka_diverse(verbose=False):\n",
        "\n",
        "    problem = tigercontrol.problem(\"KukaDiverse-v0\")\n",
        "    obs = problem.initialize(render=verbose)\n",
        "    policy = ContinuousDownwardBiasPolicy()\n",
        "\n",
        "    t_start = time.time()\n",
        "    while time.time() - t_start < 5:\n",
        "        done =  False\n",
        "        episode_rew = 0\n",
        "        while not done:\n",
        "            if verbose:\n",
        "                problem.render(mode='human')\n",
        "            act = policy.sample_action(obs, .1)\n",
        "            obs, rew, done, _ = problem.step(act)\n",
        "            episode_rew += rew\n",
        "\n",
        "    problem.close()\n",
        "    print(\"test_kuka_diverse passed\")\n",
        "\n",
        "\n",
        "test_kuka_diverse()"
      ],
      "execution_count": 0,
      "outputs": []
    },
    {
      "cell_type": "markdown",
      "metadata": {
        "id": "e8rPoSPNkAQy",
        "colab_type": "text"
      },
      "source": [
        "Next, we demonstrate how to use getState, loadState, and fork. We will run CartPoleSwingup for 1 seconds, fork a simulator for 4 seconds, and then resume stepping through original CartPoleSwingup instance for 2 seconds from the point when the simulator was forked (i.e. t = 1)."
      ]
    },
    {
      "cell_type": "code",
      "metadata": {
        "id": "9fupKmfNlKyO",
        "colab_type": "code",
        "colab": {}
      },
      "source": [
        "\"\"\"\n",
        "Test for PyBullet cartpoleSwingup problem\n",
        "\"\"\"\n",
        "import time\n",
        "import tigercontrol\n",
        "import jax.numpy as np\n",
        "from tigercontrol.problems.control.pybullet.simulator import Simulator\n",
        "\n",
        "# cartpole test\n",
        "def test_simulator(verbose=False):\n",
        "    problem = tigercontrol.problem(\"CartPoleSwingup-v0\")\n",
        "    obs = problem.initialize(render=verbose)\n",
        "\n",
        "    method = tigercontrol.method(\"CartPoleNN\")\n",
        "    method.initialize(problem.get_observation_space(), problem.get_action_space())\n",
        "\n",
        "    t_start = time.time()\n",
        "    save_to_mem_ID = -1\n",
        "\n",
        "    frame = 0\n",
        "    score = 0\n",
        "    restart_delay = 0\n",
        "    while time.time() - t_start < 1:\n",
        "        a = method.predict(obs)\n",
        "        obs, r, done, _ = problem.step(a)\n",
        "        score += r\n",
        "        frame += 1\n",
        "        if verbose:\n",
        "            time.sleep(1. / 60.)\n",
        "\n",
        "    if verbose:\n",
        "        print(\"about to save state\")\n",
        "    save_to_mem_ID = problem.getState()\n",
        "    if verbose:\n",
        "        print(\"save_state_ID: \" + str(save_to_mem_ID))\n",
        "\n",
        "    # run simulator for 4 seconds\n",
        "    sim = problem.fork()\n",
        "\n",
        "    if verbose:\n",
        "        print(\"problem.loadState worked\")\n",
        "    sim_score = score\n",
        "    sim_frame = frame\n",
        "    while time.time() - t_start < 5:\n",
        "        if verbose:\n",
        "            time.sleep(1. / 60.)\n",
        "        a = method.predict(obs)\n",
        "        obs, r, done, _ = problem.step(a)\n",
        "        sim_score += r\n",
        "        sim_frame += 1\n",
        "\n",
        "    # resume stepping through problem for 2 seconds from the point when the simulator was launched (i.e. t = 1)\n",
        "    problem.loadState(save_to_mem_ID)\n",
        "    if verbose:\n",
        "        print(\"problem.loadState worked\")\n",
        "    while time.time() - t_start < 7:\n",
        "        a = method.predict(obs)\n",
        "        obs, r, done, _ = problem.step(a)\n",
        "        score += r\n",
        "        frame += 1\n",
        "        if verbose:\n",
        "            time.sleep(1. / 60.)\n",
        "\n",
        "    problem.close()\n",
        "    print(\"test_simulator passed\")\n",
        "\n",
        "\n",
        "test_simulator(verbose=True)\n",
        "\n"
      ],
      "execution_count": 0,
      "outputs": []
    }
  ]
}